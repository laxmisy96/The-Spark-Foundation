{
  "nbformat": 4,
  "nbformat_minor": 0,
  "metadata": {
    "colab": {
      "name": "Task-7.ipynb",
      "provenance": [],
      "collapsed_sections": []
    },
    "kernelspec": {
      "name": "python3",
      "display_name": "Python 3"
    }
  },
  "cells": [
    {
      "cell_type": "markdown",
      "metadata": {
        "id": "4XU3EXfY9d2Z"
      },
      "source": [
        "**LAXMI YADAHALLI**\r\n"
      ]
    },
    {
      "cell_type": "markdown",
      "metadata": {
        "id": "BO4Bfw3answK"
      },
      "source": [
        "**GRIPJAN2021**"
      ]
    },
    {
      "cell_type": "markdown",
      "metadata": {
        "id": "iSRqFV6snczD"
      },
      "source": [
        "**Task-7**"
      ]
    },
    {
      "cell_type": "markdown",
      "metadata": {
        "id": "8XSbOjieniMO"
      },
      "source": [
        "**STOCK MARKET PREDICTION USING NUMERICAL AND TEXTUAL ANALYSIS**"
      ]
    },
    {
      "cell_type": "code",
      "metadata": {
        "colab": {
          "base_uri": "https://localhost:8080/"
        },
        "id": "4T3E0cQa-MJ5",
        "outputId": "6c09dd9c-708c-4bd8-d741-9a70a25b8e90"
      },
      "source": [
        "pip install yfinance\n"
      ],
      "execution_count": null,
      "outputs": [
        {
          "output_type": "stream",
          "text": [
            "Collecting yfinance\n",
            "  Downloading https://files.pythonhosted.org/packages/7a/e8/b9d7104d3a4bf39924799067592d9e59119fcfc900a425a12e80a3123ec8/yfinance-0.1.55.tar.gz\n",
            "Requirement already satisfied: pandas>=0.24 in /usr/local/lib/python3.6/dist-packages (from yfinance) (1.1.4)\n",
            "Requirement already satisfied: numpy>=1.15 in /usr/local/lib/python3.6/dist-packages (from yfinance) (1.18.5)\n",
            "Requirement already satisfied: requests>=2.20 in /usr/local/lib/python3.6/dist-packages (from yfinance) (2.23.0)\n",
            "Requirement already satisfied: multitasking>=0.0.7 in /usr/local/lib/python3.6/dist-packages (from yfinance) (0.0.9)\n",
            "Collecting lxml>=4.5.1\n",
            "\u001b[?25l  Downloading https://files.pythonhosted.org/packages/64/28/0b761b64ecbd63d272ed0e7a6ae6e4402fc37886b59181bfdf274424d693/lxml-4.6.1-cp36-cp36m-manylinux1_x86_64.whl (5.5MB)\n",
            "\u001b[K     |████████████████████████████████| 5.5MB 5.9MB/s \n",
            "\u001b[?25hRequirement already satisfied: python-dateutil>=2.7.3 in /usr/local/lib/python3.6/dist-packages (from pandas>=0.24->yfinance) (2.8.1)\n",
            "Requirement already satisfied: pytz>=2017.2 in /usr/local/lib/python3.6/dist-packages (from pandas>=0.24->yfinance) (2018.9)\n",
            "Requirement already satisfied: urllib3!=1.25.0,!=1.25.1,<1.26,>=1.21.1 in /usr/local/lib/python3.6/dist-packages (from requests>=2.20->yfinance) (1.24.3)\n",
            "Requirement already satisfied: idna<3,>=2.5 in /usr/local/lib/python3.6/dist-packages (from requests>=2.20->yfinance) (2.10)\n",
            "Requirement already satisfied: chardet<4,>=3.0.2 in /usr/local/lib/python3.6/dist-packages (from requests>=2.20->yfinance) (3.0.4)\n",
            "Requirement already satisfied: certifi>=2017.4.17 in /usr/local/lib/python3.6/dist-packages (from requests>=2.20->yfinance) (2020.6.20)\n",
            "Requirement already satisfied: six>=1.5 in /usr/local/lib/python3.6/dist-packages (from python-dateutil>=2.7.3->pandas>=0.24->yfinance) (1.15.0)\n",
            "Building wheels for collected packages: yfinance\n",
            "  Building wheel for yfinance (setup.py) ... \u001b[?25l\u001b[?25hdone\n",
            "  Created wheel for yfinance: filename=yfinance-0.1.55-py2.py3-none-any.whl size=22618 sha256=8d156c31d92aa7e0fd6325e0d5eed92f579b4f24a147d41775d3cd0bb19b51a9\n",
            "  Stored in directory: /root/.cache/pip/wheels/04/98/cc/2702a4242d60bdc14f48b4557c427ded1fe92aedf257d4565c\n",
            "Successfully built yfinance\n",
            "Installing collected packages: lxml, yfinance\n",
            "  Found existing installation: lxml 4.2.6\n",
            "    Uninstalling lxml-4.2.6:\n",
            "      Successfully uninstalled lxml-4.2.6\n",
            "Successfully installed lxml-4.6.1 yfinance-0.1.55\n"
          ],
          "name": "stdout"
        }
      ]
    },
    {
      "cell_type": "code",
      "metadata": {
        "colab": {
          "base_uri": "https://localhost:8080/"
        },
        "id": "VgpEafl9-b_g",
        "outputId": "9f799442-b347-4dfc-cd92-37afb3d3ed87"
      },
      "source": [
        "pip install yahoofinancials"
      ],
      "execution_count": null,
      "outputs": [
        {
          "output_type": "stream",
          "text": [
            "Collecting yahoofinancials\n",
            "  Downloading https://files.pythonhosted.org/packages/97/fe/be0f6ea704137848779fc61e7d1c9a901489aaf3423cd7b6f86a350c14c6/yahoofinancials-1.6.tar.gz\n",
            "Requirement already satisfied: beautifulsoup4 in /usr/local/lib/python3.6/dist-packages (from yahoofinancials) (4.6.3)\n",
            "Requirement already satisfied: pytz in /usr/local/lib/python3.6/dist-packages (from yahoofinancials) (2018.9)\n",
            "Building wheels for collected packages: yahoofinancials\n",
            "  Building wheel for yahoofinancials (setup.py) ... \u001b[?25l\u001b[?25hdone\n",
            "  Created wheel for yahoofinancials: filename=yahoofinancials-1.6-cp36-none-any.whl size=15192 sha256=e96aabdba41895494ab6f91e6016ab8fab787f078595b4b681dc57e9096774e2\n",
            "  Stored in directory: /root/.cache/pip/wheels/d9/7e/cf/4977a8572d5247242a4b13018d1d36923024ba84236e0d28bc\n",
            "Successfully built yahoofinancials\n",
            "Installing collected packages: yahoofinancials\n",
            "Successfully installed yahoofinancials-1.6\n"
          ],
          "name": "stdout"
        }
      ]
    },
    {
      "cell_type": "code",
      "metadata": {
        "id": "0g166DFM9WSO"
      },
      "source": [
        "#importing the libraries for downloading stock prices\n",
        "import pandas as pd\n",
        "import yfinance as yf\n",
        "from yahoofinancials import YahooFinancials"
      ],
      "execution_count": null,
      "outputs": []
    },
    {
      "cell_type": "code",
      "metadata": {
        "id": "-weh60vR-AWA"
      },
      "source": [
        "df = yf.download('AAPL',start='2008-08-08', \n",
        "                      end='2016-07-01', \n",
        "                      progress=False )"
      ],
      "execution_count": null,
      "outputs": []
    },
    {
      "cell_type": "code",
      "metadata": {
        "colab": {
          "base_uri": "https://localhost:8080/",
          "height": 235
        },
        "id": "HSqgDp3wCZsf",
        "outputId": "3c52063e-4fee-463f-b823-b6c5002f0ffc"
      },
      "source": [
        "df.head()"
      ],
      "execution_count": null,
      "outputs": [
        {
          "output_type": "execute_result",
          "data": {
            "text/html": [
              "<div>\n",
              "<style scoped>\n",
              "    .dataframe tbody tr th:only-of-type {\n",
              "        vertical-align: middle;\n",
              "    }\n",
              "\n",
              "    .dataframe tbody tr th {\n",
              "        vertical-align: top;\n",
              "    }\n",
              "\n",
              "    .dataframe thead th {\n",
              "        text-align: right;\n",
              "    }\n",
              "</style>\n",
              "<table border=\"1\" class=\"dataframe\">\n",
              "  <thead>\n",
              "    <tr style=\"text-align: right;\">\n",
              "      <th></th>\n",
              "      <th>Open</th>\n",
              "      <th>High</th>\n",
              "      <th>Low</th>\n",
              "      <th>Close</th>\n",
              "      <th>Adj Close</th>\n",
              "      <th>Volume</th>\n",
              "    </tr>\n",
              "    <tr>\n",
              "      <th>Date</th>\n",
              "      <th></th>\n",
              "      <th></th>\n",
              "      <th></th>\n",
              "      <th></th>\n",
              "      <th></th>\n",
              "      <th></th>\n",
              "    </tr>\n",
              "  </thead>\n",
              "  <tbody>\n",
              "    <tr>\n",
              "      <th>2008-08-08</th>\n",
              "      <td>5.852143</td>\n",
              "      <td>6.058928</td>\n",
              "      <td>5.848214</td>\n",
              "      <td>6.055357</td>\n",
              "      <td>5.181238</td>\n",
              "      <td>713997200</td>\n",
              "    </tr>\n",
              "    <tr>\n",
              "      <th>2008-08-11</th>\n",
              "      <td>6.073928</td>\n",
              "      <td>6.303571</td>\n",
              "      <td>6.059643</td>\n",
              "      <td>6.198571</td>\n",
              "      <td>5.303779</td>\n",
              "      <td>891304400</td>\n",
              "    </tr>\n",
              "    <tr>\n",
              "      <th>2008-08-12</th>\n",
              "      <td>6.197143</td>\n",
              "      <td>6.403214</td>\n",
              "      <td>6.196786</td>\n",
              "      <td>6.311786</td>\n",
              "      <td>5.400651</td>\n",
              "      <td>836278800</td>\n",
              "    </tr>\n",
              "    <tr>\n",
              "      <th>2008-08-13</th>\n",
              "      <td>6.356429</td>\n",
              "      <td>6.428571</td>\n",
              "      <td>6.282143</td>\n",
              "      <td>6.403572</td>\n",
              "      <td>5.479187</td>\n",
              "      <td>842346400</td>\n",
              "    </tr>\n",
              "    <tr>\n",
              "      <th>2008-08-14</th>\n",
              "      <td>6.368928</td>\n",
              "      <td>6.444643</td>\n",
              "      <td>6.351429</td>\n",
              "      <td>6.404286</td>\n",
              "      <td>5.479797</td>\n",
              "      <td>711300800</td>\n",
              "    </tr>\n",
              "  </tbody>\n",
              "</table>\n",
              "</div>"
            ],
            "text/plain": [
              "                Open      High       Low     Close  Adj Close     Volume\n",
              "Date                                                                    \n",
              "2008-08-08  5.852143  6.058928  5.848214  6.055357   5.181238  713997200\n",
              "2008-08-11  6.073928  6.303571  6.059643  6.198571   5.303779  891304400\n",
              "2008-08-12  6.197143  6.403214  6.196786  6.311786   5.400651  836278800\n",
              "2008-08-13  6.356429  6.428571  6.282143  6.403572   5.479187  842346400\n",
              "2008-08-14  6.368928  6.444643  6.351429  6.404286   5.479797  711300800"
            ]
          },
          "metadata": {
            "tags": []
          },
          "execution_count": 6
        }
      ]
    },
    {
      "cell_type": "code",
      "metadata": {
        "colab": {
          "base_uri": "https://localhost:8080/"
        },
        "id": "u76TkzSeT23X",
        "outputId": "48d8b6a7-de7d-4651-c619-a0bdf2e30814"
      },
      "source": [
        "import numpy as np\n",
        "import pandas as pd\n",
        "import matplotlib.pyplot as plt\n",
        "from sklearn.model_selection import train_test_split\n",
        "from sklearn.ensemble import RandomForestClassifier\n",
        "from sklearn.linear_model import LogisticRegression\n",
        "from sklearn.linear_model import LinearRegression\n",
        "from sklearn.svm import SVC\n",
        "from sklearn.tree import DecisionTreeClassifier\n",
        "from sklearn.discriminant_analysis import LinearDiscriminantAnalysis\n",
        "from sklearn.metrics import accuracy_score,confusion_matrix,classification_report\n",
        "from textblob import TextBlob\n",
        "from sklearn.feature_extraction.text import CountVectorizer\n",
        "import nltk\n",
        "nltk.download('punkt')\n",
        "nltk.download('averaged_perceptron_tagger')\n",
        "nltk.download('brown')\n",
        "nltk.download('vader_lexicon')\n",
        "from nltk.sentiment.vader import SentimentIntensityAnalyzer\n",
        "sid = SentimentIntensityAnalyzer()\n",
        "import re\n",
        "import seaborn as sns"
      ],
      "execution_count": null,
      "outputs": [
        {
          "output_type": "stream",
          "text": [
            "[nltk_data] Downloading package punkt to /root/nltk_data...\n",
            "[nltk_data]   Unzipping tokenizers/punkt.zip.\n",
            "[nltk_data] Downloading package averaged_perceptron_tagger to\n",
            "[nltk_data]     /root/nltk_data...\n",
            "[nltk_data]   Unzipping taggers/averaged_perceptron_tagger.zip.\n",
            "[nltk_data] Downloading package brown to /root/nltk_data...\n",
            "[nltk_data]   Unzipping corpora/brown.zip.\n",
            "[nltk_data] Downloading package vader_lexicon to /root/nltk_data...\n"
          ],
          "name": "stdout"
        },
        {
          "output_type": "stream",
          "text": [
            "/usr/local/lib/python3.6/dist-packages/nltk/twitter/__init__.py:20: UserWarning: The twython library has not been installed. Some functionality from the twitter package will not be available.\n",
            "  warnings.warn(\"The twython library has not been installed. \"\n"
          ],
          "name": "stderr"
        }
      ]
    },
    {
      "cell_type": "code",
      "metadata": {
        "colab": {
          "base_uri": "https://localhost:8080/"
        },
        "id": "rwRjra9Gkj-o",
        "outputId": "f0cd919c-a346-4d2c-e4a5-f87be964419f"
      },
      "source": [
        "pip install pyramid-arima"
      ],
      "execution_count": null,
      "outputs": [
        {
          "output_type": "stream",
          "text": [
            "Collecting pyramid-arima\n",
            "\u001b[?25l  Downloading https://files.pythonhosted.org/packages/5c/84/57422f2a6ade3161c586545e38b518ba1b7ab30ee4a4acc29110c0aba2bc/pyramid_arima-0.9.0-cp36-cp36m-manylinux1_x86_64.whl (597kB)\n",
            "\u001b[K     |████████████████████████████████| 604kB 5.3MB/s \n",
            "\u001b[?25hRequirement already satisfied: scikit-learn>=0.17 in /usr/local/lib/python3.6/dist-packages (from pyramid-arima) (0.22.2.post1)\n",
            "Requirement already satisfied: numpy>=1.10 in /usr/local/lib/python3.6/dist-packages (from pyramid-arima) (1.18.5)\n",
            "Requirement already satisfied: Cython>=0.23 in /usr/local/lib/python3.6/dist-packages (from pyramid-arima) (0.29.21)\n",
            "Requirement already satisfied: scipy>=0.9 in /usr/local/lib/python3.6/dist-packages (from pyramid-arima) (1.4.1)\n",
            "Requirement already satisfied: statsmodels>=0.9.0 in /usr/local/lib/python3.6/dist-packages (from pyramid-arima) (0.10.2)\n",
            "Requirement already satisfied: pandas>=0.19 in /usr/local/lib/python3.6/dist-packages (from pyramid-arima) (1.1.4)\n",
            "Requirement already satisfied: joblib>=0.11 in /usr/local/lib/python3.6/dist-packages (from scikit-learn>=0.17->pyramid-arima) (0.17.0)\n",
            "Requirement already satisfied: patsy>=0.4.0 in /usr/local/lib/python3.6/dist-packages (from statsmodels>=0.9.0->pyramid-arima) (0.5.1)\n",
            "Requirement already satisfied: pytz>=2017.2 in /usr/local/lib/python3.6/dist-packages (from pandas>=0.19->pyramid-arima) (2018.9)\n",
            "Requirement already satisfied: python-dateutil>=2.7.3 in /usr/local/lib/python3.6/dist-packages (from pandas>=0.19->pyramid-arima) (2.8.1)\n",
            "Requirement already satisfied: six in /usr/local/lib/python3.6/dist-packages (from patsy>=0.4.0->statsmodels>=0.9.0->pyramid-arima) (1.15.0)\n",
            "Installing collected packages: pyramid-arima\n",
            "Successfully installed pyramid-arima-0.9.0\n"
          ],
          "name": "stdout"
        }
      ]
    },
    {
      "cell_type": "code",
      "metadata": {
        "id": "ajM9q1Obkpne",
        "colab": {
          "base_uri": "https://localhost:8080/"
        },
        "outputId": "dd99e286-dd72-4fd8-fec8-d333d8f2a90b"
      },
      "source": [
        "from pyramid.arima import auto_arima"
      ],
      "execution_count": null,
      "outputs": [
        {
          "output_type": "stream",
          "text": [
            "/usr/local/lib/python3.6/dist-packages/sklearn/externals/six.py:31: FutureWarning: The module is deprecated in version 0.21 and will be removed in version 0.23 since we've dropped support for Python 2.7. Please rely on the official version of six (https://pypi.org/project/six/).\n",
            "  \"(https://pypi.org/project/six/).\", FutureWarning)\n",
            "/usr/local/lib/python3.6/dist-packages/statsmodels/tools/_testing.py:19: FutureWarning: pandas.util.testing is deprecated. Use the functions in the public API at pandas.testing instead.\n",
            "  import pandas.util.testing as tm\n",
            "/usr/local/lib/python3.6/dist-packages/sklearn/externals/joblib/__init__.py:15: FutureWarning: sklearn.externals.joblib is deprecated in 0.21 and will be removed in 0.23. Please import this functionality directly from joblib, which can be installed with: pip install joblib. If this warning is raised when loading pickled models, you may need to re-serialize those models with scikit-learn 0.21+.\n",
            "  warnings.warn(msg, category=FutureWarning)\n",
            "/usr/local/lib/python3.6/dist-packages/pyramid/__init__.py:68: UserWarning: \n",
            "    The 'pyramid' package will be migrating to a new namespace beginning in \n",
            "    version 1.0.0: 'pmdarima'. This is due to a package name collision with the\n",
            "    Pyramid web framework. For more information, see Issue #34:\n",
            "    \n",
            "        https://github.com/tgsmith61591/pyramid/issues/34\n",
            "        \n",
            "    The package will subsequently be installable via the name 'pmdarima'; the\n",
            "    only functional change to the user will be the import name. All imports\n",
            "    from 'pyramid' will change to 'pmdarima'.\n",
            "    \n",
            "  \"\"\", UserWarning)\n"
          ],
          "name": "stderr"
        }
      ]
    },
    {
      "cell_type": "code",
      "metadata": {
        "id": "dLu4l6F8ksvv"
      },
      "source": [
        "#forecasting of the apple shares\n",
        "apple=df\n",
        "apple\n",
        "apple.to_csv('appleshare.csv')"
      ],
      "execution_count": null,
      "outputs": []
    },
    {
      "cell_type": "code",
      "metadata": {
        "colab": {
          "base_uri": "https://localhost:8080/",
          "height": 282
        },
        "id": "0SiSA6GlkvfM",
        "outputId": "bda0b811-d4ee-48c8-dbea-89bb2a8c56e5"
      },
      "source": [
        "#let us check whether the model can be used for time series analysis\n",
        "\n",
        "plt.plot(apple['Close'])\n",
        "#after the plotting we understand that the plot of close proces has a trend hence arima analysis can be applied"
      ],
      "execution_count": null,
      "outputs": [
        {
          "output_type": "execute_result",
          "data": {
            "text/plain": [
              "[<matplotlib.lines.Line2D at 0x7f16ce5e57f0>]"
            ]
          },
          "metadata": {
            "tags": []
          },
          "execution_count": 15
        },
        {
          "output_type": "display_data",
          "data": {
            "image/png": "[encoded data removed]",
            "text/plain": [
              "<Figure size 432x288 with 1 Axes>"
            ]
          },
          "metadata": {
            "tags": [],
            "needs_background": "light"
          }
        }
      ]
    },
    {
      "cell_type": "code",
      "metadata": {
        "colab": {
          "base_uri": "https://localhost:8080/",
          "height": 295
        },
        "id": "-rE6kGrh0W5l",
        "outputId": "1ee6fdd3-7446-4e04-eca6-c89aa2c7d842"
      },
      "source": [
        "from pandas.plotting import lag_plot\n",
        "plt.figure()\n",
        "lag_plot(apple['Open'], lag=3)\n",
        "plt.title('APPLE Stock - Autocorrelation plot with lag = 3')\n",
        "plt.show()"
      ],
      "execution_count": null,
      "outputs": [
        {
          "output_type": "display_data",
          "data": {
            "image/png": "[encoded data removed]",
            "text/plain": [
              "<Figure size 432x288 with 1 Axes>"
            ]
          },
          "metadata": {
            "tags": [],
            "needs_background": "light"
          }
        }
      ]
    },
    {
      "cell_type": "code",
      "metadata": {
        "colab": {
          "base_uri": "https://localhost:8080/",
          "height": 455
        },
        "id": "iWb6FVsbmgAn",
        "outputId": "7ab4d902-a6d2-4172-b888-f8a821396fc6"
      },
      "source": [
        "apple_stock=apple[['Close']]\n",
        "apple_stock"
      ],
      "execution_count": null,
      "outputs": [
        {
          "output_type": "execute_result",
          "data": {
            "text/html": [
              "<div>\n",
              "<style scoped>\n",
              "    .dataframe tbody tr th:only-of-type {\n",
              "        vertical-align: middle;\n",
              "    }\n",
              "\n",
              "    .dataframe tbody tr th {\n",
              "        vertical-align: top;\n",
              "    }\n",
              "\n",
              "    .dataframe thead th {\n",
              "        text-align: right;\n",
              "    }\n",
              "</style>\n",
              "<table border=\"1\" class=\"dataframe\">\n",
              "  <thead>\n",
              "    <tr style=\"text-align: right;\">\n",
              "      <th></th>\n",
              "      <th>Close</th>\n",
              "    </tr>\n",
              "    <tr>\n",
              "      <th>Date</th>\n",
              "      <th></th>\n",
              "    </tr>\n",
              "  </thead>\n",
              "  <tbody>\n",
              "    <tr>\n",
              "      <th>2008-08-08</th>\n",
              "      <td>6.055357</td>\n",
              "    </tr>\n",
              "    <tr>\n",
              "      <th>2008-08-11</th>\n",
              "      <td>6.198571</td>\n",
              "    </tr>\n",
              "    <tr>\n",
              "      <th>2008-08-12</th>\n",
              "      <td>6.311786</td>\n",
              "    </tr>\n",
              "    <tr>\n",
              "      <th>2008-08-13</th>\n",
              "      <td>6.403572</td>\n",
              "    </tr>\n",
              "    <tr>\n",
              "      <th>2008-08-14</th>\n",
              "      <td>6.404286</td>\n",
              "    </tr>\n",
              "    <tr>\n",
              "      <th>...</th>\n",
              "      <td>...</td>\n",
              "    </tr>\n",
              "    <tr>\n",
              "      <th>2016-06-24</th>\n",
              "      <td>23.350000</td>\n",
              "    </tr>\n",
              "    <tr>\n",
              "      <th>2016-06-27</th>\n",
              "      <td>23.010000</td>\n",
              "    </tr>\n",
              "    <tr>\n",
              "      <th>2016-06-28</th>\n",
              "      <td>23.397499</td>\n",
              "    </tr>\n",
              "    <tr>\n",
              "      <th>2016-06-29</th>\n",
              "      <td>23.600000</td>\n",
              "    </tr>\n",
              "    <tr>\n",
              "      <th>2016-06-30</th>\n",
              "      <td>23.900000</td>\n",
              "    </tr>\n",
              "  </tbody>\n",
              "</table>\n",
              "<p>1988 rows × 1 columns</p>\n",
              "</div>"
            ],
            "text/plain": [
              "                Close\n",
              "Date                 \n",
              "2008-08-08   6.055357\n",
              "2008-08-11   6.198571\n",
              "2008-08-12   6.311786\n",
              "2008-08-13   6.403572\n",
              "2008-08-14   6.404286\n",
              "...               ...\n",
              "2016-06-24  23.350000\n",
              "2016-06-27  23.010000\n",
              "2016-06-28  23.397499\n",
              "2016-06-29  23.600000\n",
              "2016-06-30  23.900000\n",
              "\n",
              "[1988 rows x 1 columns]"
            ]
          },
          "metadata": {
            "tags": []
          },
          "execution_count": 181
        }
      ]
    },
    {
      "cell_type": "code",
      "metadata": {
        "id": "nFN16Jrhmue8"
      },
      "source": [
        "#now divide the apple_stock to training and testing set\n",
        "#train the arima model using the data and do forecast or prediction on the test data and then validate it by using rms score\n",
        "train_apple_stock=apple_stock.iloc[:1099]\n",
        "test_apple_stock=apple_stock.iloc[1099:]"
      ],
      "execution_count": null,
      "outputs": []
    },
    {
      "cell_type": "code",
      "metadata": {
        "colab": {
          "base_uri": "https://localhost:8080/",
          "height": 455
        },
        "id": "IJBVjcgzmylA",
        "outputId": "4120c6b5-8d9e-4090-9258-af66264f3e4e"
      },
      "source": [
        "train_apple_stock"
      ],
      "execution_count": null,
      "outputs": [
        {
          "output_type": "execute_result",
          "data": {
            "text/html": [
              "<div>\n",
              "<style scoped>\n",
              "    .dataframe tbody tr th:only-of-type {\n",
              "        vertical-align: middle;\n",
              "    }\n",
              "\n",
              "    .dataframe tbody tr th {\n",
              "        vertical-align: top;\n",
              "    }\n",
              "\n",
              "    .dataframe thead th {\n",
              "        text-align: right;\n",
              "    }\n",
              "</style>\n",
              "<table border=\"1\" class=\"dataframe\">\n",
              "  <thead>\n",
              "    <tr style=\"text-align: right;\">\n",
              "      <th></th>\n",
              "      <th>Close</th>\n",
              "    </tr>\n",
              "    <tr>\n",
              "      <th>Date</th>\n",
              "      <th></th>\n",
              "    </tr>\n",
              "  </thead>\n",
              "  <tbody>\n",
              "    <tr>\n",
              "      <th>2008-08-08</th>\n",
              "      <td>6.055357</td>\n",
              "    </tr>\n",
              "    <tr>\n",
              "      <th>2008-08-11</th>\n",
              "      <td>6.198571</td>\n",
              "    </tr>\n",
              "    <tr>\n",
              "      <th>2008-08-12</th>\n",
              "      <td>6.311786</td>\n",
              "    </tr>\n",
              "    <tr>\n",
              "      <th>2008-08-13</th>\n",
              "      <td>6.403572</td>\n",
              "    </tr>\n",
              "    <tr>\n",
              "      <th>2008-08-14</th>\n",
              "      <td>6.404286</td>\n",
              "    </tr>\n",
              "    <tr>\n",
              "      <th>...</th>\n",
              "      <td>...</td>\n",
              "    </tr>\n",
              "    <tr>\n",
              "      <th>2012-12-12</th>\n",
              "      <td>19.250000</td>\n",
              "    </tr>\n",
              "    <tr>\n",
              "      <th>2012-12-13</th>\n",
              "      <td>18.917500</td>\n",
              "    </tr>\n",
              "    <tr>\n",
              "      <th>2012-12-14</th>\n",
              "      <td>18.206785</td>\n",
              "    </tr>\n",
              "    <tr>\n",
              "      <th>2012-12-17</th>\n",
              "      <td>18.529642</td>\n",
              "    </tr>\n",
              "    <tr>\n",
              "      <th>2012-12-18</th>\n",
              "      <td>19.067858</td>\n",
              "    </tr>\n",
              "  </tbody>\n",
              "</table>\n",
              "<p>1099 rows × 1 columns</p>\n",
              "</div>"
            ],
            "text/plain": [
              "                Close\n",
              "Date                 \n",
              "2008-08-08   6.055357\n",
              "2008-08-11   6.198571\n",
              "2008-08-12   6.311786\n",
              "2008-08-13   6.403572\n",
              "2008-08-14   6.404286\n",
              "...               ...\n",
              "2012-12-12  19.250000\n",
              "2012-12-13  18.917500\n",
              "2012-12-14  18.206785\n",
              "2012-12-17  18.529642\n",
              "2012-12-18  19.067858\n",
              "\n",
              "[1099 rows x 1 columns]"
            ]
          },
          "metadata": {
            "tags": []
          },
          "execution_count": 193
        }
      ]
    },
    {
      "cell_type": "code",
      "metadata": {
        "colab": {
          "base_uri": "https://localhost:8080/",
          "height": 455
        },
        "id": "9wSv4Xj4m1xg",
        "outputId": "f88d9deb-0d48-4823-f379-7c9360809342"
      },
      "source": [
        "test_apple_stock"
      ],
      "execution_count": null,
      "outputs": [
        {
          "output_type": "execute_result",
          "data": {
            "text/html": [
              "<div>\n",
              "<style scoped>\n",
              "    .dataframe tbody tr th:only-of-type {\n",
              "        vertical-align: middle;\n",
              "    }\n",
              "\n",
              "    .dataframe tbody tr th {\n",
              "        vertical-align: top;\n",
              "    }\n",
              "\n",
              "    .dataframe thead th {\n",
              "        text-align: right;\n",
              "    }\n",
              "</style>\n",
              "<table border=\"1\" class=\"dataframe\">\n",
              "  <thead>\n",
              "    <tr style=\"text-align: right;\">\n",
              "      <th></th>\n",
              "      <th>Close</th>\n",
              "    </tr>\n",
              "    <tr>\n",
              "      <th>Date</th>\n",
              "      <th></th>\n",
              "    </tr>\n",
              "  </thead>\n",
              "  <tbody>\n",
              "    <tr>\n",
              "      <th>2012-12-19</th>\n",
              "      <td>18.796785</td>\n",
              "    </tr>\n",
              "    <tr>\n",
              "      <th>2012-12-20</th>\n",
              "      <td>18.633215</td>\n",
              "    </tr>\n",
              "    <tr>\n",
              "      <th>2012-12-21</th>\n",
              "      <td>18.547501</td>\n",
              "    </tr>\n",
              "    <tr>\n",
              "      <th>2012-12-24</th>\n",
              "      <td>18.577499</td>\n",
              "    </tr>\n",
              "    <tr>\n",
              "      <th>2012-12-26</th>\n",
              "      <td>18.321428</td>\n",
              "    </tr>\n",
              "    <tr>\n",
              "      <th>...</th>\n",
              "      <td>...</td>\n",
              "    </tr>\n",
              "    <tr>\n",
              "      <th>2016-06-24</th>\n",
              "      <td>23.350000</td>\n",
              "    </tr>\n",
              "    <tr>\n",
              "      <th>2016-06-27</th>\n",
              "      <td>23.010000</td>\n",
              "    </tr>\n",
              "    <tr>\n",
              "      <th>2016-06-28</th>\n",
              "      <td>23.397499</td>\n",
              "    </tr>\n",
              "    <tr>\n",
              "      <th>2016-06-29</th>\n",
              "      <td>23.600000</td>\n",
              "    </tr>\n",
              "    <tr>\n",
              "      <th>2016-06-30</th>\n",
              "      <td>23.900000</td>\n",
              "    </tr>\n",
              "  </tbody>\n",
              "</table>\n",
              "<p>889 rows × 1 columns</p>\n",
              "</div>"
            ],
            "text/plain": [
              "                Close\n",
              "Date                 \n",
              "2012-12-19  18.796785\n",
              "2012-12-20  18.633215\n",
              "2012-12-21  18.547501\n",
              "2012-12-24  18.577499\n",
              "2012-12-26  18.321428\n",
              "...               ...\n",
              "2016-06-24  23.350000\n",
              "2016-06-27  23.010000\n",
              "2016-06-28  23.397499\n",
              "2016-06-29  23.600000\n",
              "2016-06-30  23.900000\n",
              "\n",
              "[889 rows x 1 columns]"
            ]
          },
          "metadata": {
            "tags": []
          },
          "execution_count": 194
        }
      ]
    },
    {
      "cell_type": "code",
      "metadata": {
        "colab": {
          "base_uri": "https://localhost:8080/"
        },
        "id": "O8nodhnnm58o",
        "outputId": "fb40c726-b3e0-4640-dd55-0b5605584f71"
      },
      "source": [
        "model_forecast = auto_arima(train_apple_stock, start_p = 1, start_q = 1, \n",
        "                          max_p = 3, max_q = 3, m = 12, \n",
        "                          start_P = 0, seasonal = True, \n",
        "                          d = None, D = 1, trace = True, \n",
        "                          error_action ='ignore',   \n",
        "                          suppress_warnings = True,  \n",
        "                          stepwise = True)"
      ],
      "execution_count": null,
      "outputs": [
        {
          "output_type": "stream",
          "text": [
            "Fit ARIMA: order=(1, 0, 1) seasonal_order=(0, 1, 1, 12); AIC=-46.905, BIC=-21.949, Fit time=8.774 seconds\n",
            "Fit ARIMA: order=(0, 0, 0) seasonal_order=(0, 1, 0, 12); AIC=2570.368, BIC=2580.351, Fit time=0.322 seconds\n",
            "Fit ARIMA: order=(1, 0, 0) seasonal_order=(1, 1, 0, 12); AIC=254.984, BIC=274.949, Fit time=3.714 seconds\n",
            "Fit ARIMA: order=(0, 0, 1) seasonal_order=(0, 1, 1, 12); AIC=1609.610, BIC=1629.575, Fit time=3.340 seconds\n",
            "Fit ARIMA: order=(1, 0, 1) seasonal_order=(1, 1, 1, 12); AIC=-45.274, BIC=-15.327, Fit time=9.079 seconds\n",
            "Fit ARIMA: order=(1, 0, 1) seasonal_order=(0, 1, 0, 12); AIC=568.243, BIC=588.208, Fit time=1.085 seconds\n",
            "Fit ARIMA: order=(1, 0, 1) seasonal_order=(0, 1, 2, 12); AIC=-45.250, BIC=-15.303, Fit time=30.674 seconds\n",
            "Fit ARIMA: order=(1, 0, 1) seasonal_order=(1, 1, 2, 12); AIC=-49.839, BIC=-14.901, Fit time=24.928 seconds\n",
            "Fit ARIMA: order=(0, 0, 1) seasonal_order=(1, 1, 2, 12); AIC=1594.211, BIC=1624.158, Fit time=15.391 seconds\n",
            "Fit ARIMA: order=(2, 0, 1) seasonal_order=(1, 1, 2, 12); AIC=-52.962, BIC=-13.033, Fit time=26.890 seconds\n",
            "Fit ARIMA: order=(2, 0, 0) seasonal_order=(1, 1, 2, 12); AIC=-49.613, BIC=-14.675, Fit time=20.016 seconds\n",
            "Fit ARIMA: order=(2, 0, 2) seasonal_order=(1, 1, 2, 12); AIC=-46.648, BIC=-1.727, Fit time=33.717 seconds\n",
            "Fit ARIMA: order=(1, 0, 0) seasonal_order=(1, 1, 2, 12); AIC=-51.440, BIC=-21.493, Fit time=19.053 seconds\n",
            "Fit ARIMA: order=(3, 0, 2) seasonal_order=(1, 1, 2, 12); AIC=-42.945, BIC=6.967, Fit time=43.421 seconds\n",
            "Fit ARIMA: order=(2, 0, 1) seasonal_order=(0, 1, 2, 12); AIC=-46.936, BIC=-11.998, Fit time=24.684 seconds\n",
            "Fit ARIMA: order=(2, 0, 1) seasonal_order=(2, 1, 2, 12); AIC=-51.651, BIC=-6.731, Fit time=30.567 seconds\n",
            "Fit ARIMA: order=(2, 0, 1) seasonal_order=(1, 1, 1, 12); AIC=-43.969, BIC=-9.031, Fit time=9.826 seconds\n",
            "Fit ARIMA: order=(2, 0, 1) seasonal_order=(0, 1, 1, 12); AIC=-49.047, BIC=-19.100, Fit time=11.605 seconds\n",
            "Fit ARIMA: order=(3, 0, 1) seasonal_order=(1, 1, 2, 12); AIC=-50.406, BIC=-5.485, Fit time=36.585 seconds\n",
            "Total fit time: 353.689 seconds\n"
          ],
          "name": "stdout"
        }
      ]
    },
    {
      "cell_type": "code",
      "metadata": {
        "colab": {
          "base_uri": "https://localhost:8080/",
          "height": 537
        },
        "id": "KfsduV60m_zV",
        "outputId": "94815126-4768-4aa7-bd0d-381f5f6f75e3"
      },
      "source": [
        "model_forecast.summary()"
      ],
      "execution_count": null,
      "outputs": [
        {
          "output_type": "execute_result",
          "data": {
            "text/html": [
              "<table class=\"simpletable\">\n",
              "<caption>SARIMAX Results</caption>\n",
              "<tr>\n",
              "  <th>Dep. Variable:</th>                    <td>y</td>                  <th>  No. Observations:  </th>  <td>1099</td>  \n",
              "</tr>\n",
              "<tr>\n",
              "  <th>Model:</th>           <td>SARIMAX(2, 0, 1)x(1, 1, [1, 2], 12)</td> <th>  Log Likelihood     </th> <td>34.481</td> \n",
              "</tr>\n",
              "<tr>\n",
              "  <th>Date:</th>                     <td>Fri, 20 Nov 2020</td>           <th>  AIC                </th> <td>-52.962</td>\n",
              "</tr>\n",
              "<tr>\n",
              "  <th>Time:</th>                         <td>17:15:03</td>               <th>  BIC                </th> <td>-13.033</td>\n",
              "</tr>\n",
              "<tr>\n",
              "  <th>Sample:</th>                           <td>0</td>                  <th>  HQIC               </th> <td>-37.848</td>\n",
              "</tr>\n",
              "<tr>\n",
              "  <th></th>                               <td> - 1099</td>               <th>                     </th>    <td> </td>   \n",
              "</tr>\n",
              "<tr>\n",
              "  <th>Covariance Type:</th>                 <td>opg</td>                 <th>                     </th>    <td> </td>   \n",
              "</tr>\n",
              "</table>\n",
              "<table class=\"simpletable\">\n",
              "<tr>\n",
              "      <td></td>         <th>coef</th>     <th>std err</th>      <th>z</th>      <th>P>|z|</th>  <th>[0.025</th>    <th>0.975]</th>  \n",
              "</tr>\n",
              "<tr>\n",
              "  <th>intercept</th> <td>    0.0016</td> <td>    0.003</td> <td>    0.634</td> <td> 0.526</td> <td>   -0.003</td> <td>    0.007</td>\n",
              "</tr>\n",
              "<tr>\n",
              "  <th>ar.L1</th>     <td>    0.0849</td> <td>    0.062</td> <td>    1.380</td> <td> 0.167</td> <td>   -0.036</td> <td>    0.206</td>\n",
              "</tr>\n",
              "<tr>\n",
              "  <th>ar.L2</th>     <td>    0.9100</td> <td>    0.063</td> <td>   14.506</td> <td> 0.000</td> <td>    0.787</td> <td>    1.033</td>\n",
              "</tr>\n",
              "<tr>\n",
              "  <th>ma.L1</th>     <td>    0.8851</td> <td>    0.072</td> <td>   12.331</td> <td> 0.000</td> <td>    0.744</td> <td>    1.026</td>\n",
              "</tr>\n",
              "<tr>\n",
              "  <th>ar.S.L12</th>  <td>   -0.9749</td> <td>    0.046</td> <td>  -21.275</td> <td> 0.000</td> <td>   -1.065</td> <td>   -0.885</td>\n",
              "</tr>\n",
              "<tr>\n",
              "  <th>ma.S.L12</th>  <td>   -0.0493</td> <td>    0.733</td> <td>   -0.067</td> <td> 0.946</td> <td>   -1.487</td> <td>    1.388</td>\n",
              "</tr>\n",
              "<tr>\n",
              "  <th>ma.S.L24</th>  <td>   -0.9502</td> <td>    0.702</td> <td>   -1.354</td> <td> 0.176</td> <td>   -2.325</td> <td>    0.425</td>\n",
              "</tr>\n",
              "<tr>\n",
              "  <th>sigma2</th>    <td>    0.0523</td> <td>    0.038</td> <td>    1.381</td> <td> 0.167</td> <td>   -0.022</td> <td>    0.126</td>\n",
              "</tr>\n",
              "</table>\n",
              "<table class=\"simpletable\">\n",
              "<tr>\n",
              "  <th>Ljung-Box (L1) (Q):</th>     <td>1.84</td> <th>  Jarque-Bera (JB):  </th> <td>2298.56</td>\n",
              "</tr>\n",
              "<tr>\n",
              "  <th>Prob(Q):</th>                <td>0.17</td> <th>  Prob(JB):          </th>  <td>0.00</td>  \n",
              "</tr>\n",
              "<tr>\n",
              "  <th>Heteroskedasticity (H):</th> <td>6.69</td> <th>  Skew:              </th>  <td>0.35</td>  \n",
              "</tr>\n",
              "<tr>\n",
              "  <th>Prob(H) (two-sided):</th>    <td>0.00</td> <th>  Kurtosis:          </th>  <td>10.09</td> \n",
              "</tr>\n",
              "</table><br/><br/>Warnings:<br/>[1] Covariance matrix calculated using the outer product of gradients (complex-step)."
            ],
            "text/plain": [
              "<class 'statsmodels.iolib.summary.Summary'>\n",
              "\"\"\"\n",
              "                                        SARIMAX Results                                        \n",
              "===============================================================================================\n",
              "Dep. Variable:                                       y   No. Observations:                 1099\n",
              "Model:             SARIMAX(2, 0, 1)x(1, 1, [1, 2], 12)   Log Likelihood                  34.481\n",
              "Date:                                 Fri, 20 Nov 2020   AIC                            -52.962\n",
              "Time:                                         17:15:03   BIC                            -13.033\n",
              "Sample:                                              0   HQIC                           -37.848\n",
              "                                                - 1099                                         \n",
              "Covariance Type:                                   opg                                         \n",
              "==============================================================================\n",
              "                 coef    std err          z      P>|z|      [0.025      0.975]\n",
              "------------------------------------------------------------------------------\n",
              "intercept      0.0016      0.003      0.634      0.526      -0.003       0.007\n",
              "ar.L1          0.0849      0.062      1.380      0.167      -0.036       0.206\n",
              "ar.L2          0.9100      0.063     14.506      0.000       0.787       1.033\n",
              "ma.L1          0.8851      0.072     12.331      0.000       0.744       1.026\n",
              "ar.S.L12      -0.9749      0.046    -21.275      0.000      -1.065      -0.885\n",
              "ma.S.L12      -0.0493      0.733     -0.067      0.946      -1.487       1.388\n",
              "ma.S.L24      -0.9502      0.702     -1.354      0.176      -2.325       0.425\n",
              "sigma2         0.0523      0.038      1.381      0.167      -0.022       0.126\n",
              "===================================================================================\n",
              "Ljung-Box (L1) (Q):                   1.84   Jarque-Bera (JB):              2298.56\n",
              "Prob(Q):                              0.17   Prob(JB):                         0.00\n",
              "Heteroskedasticity (H):               6.69   Skew:                             0.35\n",
              "Prob(H) (two-sided):                  0.00   Kurtosis:                        10.09\n",
              "===================================================================================\n",
              "\n",
              "Warnings:\n",
              "[1] Covariance matrix calculated using the outer product of gradients (complex-step).\n",
              "\"\"\""
            ]
          },
          "metadata": {
            "tags": []
          },
          "execution_count": 202
        }
      ]
    },
    {
      "cell_type": "code",
      "metadata": {
        "id": "5-uBrXacnKJt"
      },
      "source": [
        "#now use this model to do the forecast\n",
        "prediction=model_forecast.predict(n_periods=889)"
      ],
      "execution_count": null,
      "outputs": []
    },
    {
      "cell_type": "code",
      "metadata": {
        "colab": {
          "base_uri": "https://localhost:8080/"
        },
        "id": "ETJm8zx4nL_C",
        "outputId": "2a1b1f27-24f6-4329-d81b-2a96303090cc"
      },
      "source": [
        "#check the mean square error for validating how accurate are the values obtained \n",
        "def rootmeansqr_meansqr(prediction,test_apple_stock):\n",
        "  sum=0\n",
        "  for i in range(0,len(test_apple_stock)):\n",
        "    sum+=(prediction[i]-test_apple_stock.values[i])**2\n",
        "  rmse=np.sqrt(sum/len(test_apple_stock))\n",
        "  mse=sum/len(test_apple_stock)\n",
        "  return rmse,mse\n",
        "rmse,mse=rootmeansqr_meansqr(prediction,test_apple_stock)\n",
        "print(\"root_mean_sqare error:\",rmse[0])\n",
        "print(\"mean squre error:\",mse[0])"
      ],
      "execution_count": null,
      "outputs": [
        {
          "output_type": "stream",
          "text": [
            "root_mean_sqare error: 3.839085126685313\n",
            "mean squre error: 14.738574609936386\n"
          ],
          "name": "stdout"
        }
      ]
    },
    {
      "cell_type": "code",
      "metadata": {
        "id": "3jx5IPRznSWQ"
      },
      "source": [
        "#converting prediction array to a pandas data frame\n",
        "prediction_dataframe=pd.DataFrame(prediction,columns=['Forecast'],index=test_apple_stock.index)"
      ],
      "execution_count": null,
      "outputs": []
    },
    {
      "cell_type": "code",
      "metadata": {
        "colab": {
          "base_uri": "https://localhost:8080/",
          "height": 281
        },
        "id": "gfDZVRQZnVM6",
        "outputId": "51bbc8ec-2106-4a29-8208-c3a901f4f9ce"
      },
      "source": [
        "#now let us plot the training,testing and prediction values over the graph\n",
        "plt.plot(train_apple_stock,label='Training data')\n",
        "plt.plot(test_apple_stock,label='Testing data')\n",
        "plt.plot(prediction_dataframe,label='Predicted data')\n",
        "plt.legend()\n",
        "plt.title(\"Stock prices for Apple stocks\")\n",
        "plt.show()"
      ],
      "execution_count": null,
      "outputs": [
        {
          "output_type": "display_data",
          "data": {
            "image/png": "[encoded data removed]",
            "text/plain": [
              "<Figure size 432x288 with 1 Axes>"
            ]
          },
          "metadata": {
            "tags": [],
            "needs_background": "light"
          }
        }
      ]
    },
    {
      "cell_type": "code",
      "metadata": {
        "colab": {
          "base_uri": "https://localhost:8080/",
          "height": 695
        },
        "id": "9ZaZrvGznZJb",
        "outputId": "0cc15e35-77ed-49f6-ae2b-811c45affec6"
      },
      "source": [
        "#now let us analyse the top headlines\n",
        "headlines=pd.read_csv('Top_headlines.csv')\n",
        "headlines.head()"
      ],
      "execution_count": null,
      "outputs": [
        {
          "output_type": "execute_result",
          "data": {
            "text/html": [
              "<div>\n",
              "<style scoped>\n",
              "    .dataframe tbody tr th:only-of-type {\n",
              "        vertical-align: middle;\n",
              "    }\n",
              "\n",
              "    .dataframe tbody tr th {\n",
              "        vertical-align: top;\n",
              "    }\n",
              "\n",
              "    .dataframe thead th {\n",
              "        text-align: right;\n",
              "    }\n",
              "</style>\n",
              "<table border=\"1\" class=\"dataframe\">\n",
              "  <thead>\n",
              "    <tr style=\"text-align: right;\">\n",
              "      <th></th>\n",
              "      <th>Date</th>\n",
              "      <th>Label</th>\n",
              "      <th>Top1</th>\n",
              "      <th>Top2</th>\n",
              "      <th>Top3</th>\n",
              "      <th>Top4</th>\n",
              "      <th>Top5</th>\n",
              "      <th>Top6</th>\n",
              "      <th>Top7</th>\n",
              "      <th>Top8</th>\n",
              "      <th>Top9</th>\n",
              "      <th>Top10</th>\n",
              "      <th>Top11</th>\n",
              "      <th>Top12</th>\n",
              "      <th>Top13</th>\n",
              "      <th>Top14</th>\n",
              "      <th>Top15</th>\n",
              "      <th>Top16</th>\n",
              "      <th>Top17</th>\n",
              "      <th>Top18</th>\n",
              "      <th>Top19</th>\n",
              "      <th>Top20</th>\n",
              "      <th>Top21</th>\n",
              "      <th>Top22</th>\n",
              "      <th>Top23</th>\n",
              "      <th>Top24</th>\n",
              "      <th>Top25</th>\n",
              "    </tr>\n",
              "  </thead>\n",
              "  <tbody>\n",
              "    <tr>\n",
              "      <th>0</th>\n",
              "      <td>2008-08-08</td>\n",
              "      <td>0</td>\n",
              "      <td>b\"Georgia 'downs two Russian warplanes' as cou...</td>\n",
              "      <td>b'BREAKING: Musharraf to be impeached.'</td>\n",
              "      <td>b'Russia Today: Columns of troops roll into So...</td>\n",
              "      <td>b'Russian tanks are moving towards the capital...</td>\n",
              "      <td>b\"Afghan children raped with 'impunity,' U.N. ...</td>\n",
              "      <td>b'150 Russian tanks have entered South Ossetia...</td>\n",
              "      <td>b\"Breaking: Georgia invades South Ossetia, Rus...</td>\n",
              "      <td>b\"The 'enemy combatent' trials are nothing but...</td>\n",
              "      <td>b'Georgian troops retreat from S. Osettain cap...</td>\n",
              "      <td>b'Did the U.S. Prep Georgia for War with Russia?'</td>\n",
              "      <td>b'Rice Gives Green Light for Israel to Attack ...</td>\n",
              "      <td>b'Announcing:Class Action Lawsuit on Behalf of...</td>\n",
              "      <td>b\"So---Russia and Georgia are at war and the N...</td>\n",
              "      <td>b\"China tells Bush to stay out of other countr...</td>\n",
              "      <td>b'Did World War III start today?'</td>\n",
              "      <td>b'Georgia Invades South Ossetia - if Russia ge...</td>\n",
              "      <td>b'Al-Qaeda Faces Islamist Backlash'</td>\n",
              "      <td>b'Condoleezza Rice: \"The US would not act to p...</td>\n",
              "      <td>b'This is a busy day:  The European Union has ...</td>\n",
              "      <td>b\"Georgia will withdraw 1,000 soldiers from Ir...</td>\n",
              "      <td>b'Why the Pentagon Thinks Attacking Iran is a ...</td>\n",
              "      <td>b'Caucasus in crisis: Georgia invades South Os...</td>\n",
              "      <td>b'Indian shoe manufactory  - And again in a se...</td>\n",
              "      <td>b'Visitors Suffering from Mental Illnesses Ban...</td>\n",
              "      <td>b\"No Help for Mexico's Kidnapping Surge\"</td>\n",
              "    </tr>\n",
              "    <tr>\n",
              "      <th>1</th>\n",
              "      <td>2008-08-11</td>\n",
              "      <td>1</td>\n",
              "      <td>b'Why wont America and Nato help us? If they w...</td>\n",
              "      <td>b'Bush puts foot down on Georgian conflict'</td>\n",
              "      <td>b\"Jewish Georgian minister: Thanks to Israeli ...</td>\n",
              "      <td>b'Georgian army flees in disarray as Russians ...</td>\n",
              "      <td>b\"Olympic opening ceremony fireworks 'faked'\"</td>\n",
              "      <td>b'What were the Mossad with fraudulent New Zea...</td>\n",
              "      <td>b'Russia angered by Israeli military sale to G...</td>\n",
              "      <td>b'An American citizen living in S.Ossetia blam...</td>\n",
              "      <td>b'Welcome To World War IV! Now In High Definit...</td>\n",
              "      <td>b\"Georgia's move, a mistake of monumental prop...</td>\n",
              "      <td>b'Russia presses deeper into Georgia; U.S. say...</td>\n",
              "      <td>b'Abhinav Bindra wins first ever Individual Ol...</td>\n",
              "      <td>b' U.S. ship heads for Arctic to define territ...</td>\n",
              "      <td>b'Drivers in a Jerusalem taxi station threaten...</td>\n",
              "      <td>b'The French Team is Stunned by Phelps and the...</td>\n",
              "      <td>b'Israel and the US behind the Georgian aggres...</td>\n",
              "      <td>b'\"Do not believe TV, neither Russian nor Geor...</td>\n",
              "      <td>b'Riots are still going on in Montreal (Canada...</td>\n",
              "      <td>b'China to overtake US as largest manufacturer'</td>\n",
              "      <td>b'War in South Ossetia [PICS]'</td>\n",
              "      <td>b'Israeli Physicians Group Condemns State Tort...</td>\n",
              "      <td>b' Russia has just beaten the United States ov...</td>\n",
              "      <td>b'Perhaps *the* question about the Georgia - R...</td>\n",
              "      <td>b'Russia is so much better at war'</td>\n",
              "      <td>b\"So this is what it's come to: trading sex fo...</td>\n",
              "    </tr>\n",
              "    <tr>\n",
              "      <th>2</th>\n",
              "      <td>2008-08-12</td>\n",
              "      <td>0</td>\n",
              "      <td>b'Remember that adorable 9-year-old who sang a...</td>\n",
              "      <td>b\"Russia 'ends Georgia operation'\"</td>\n",
              "      <td>b'\"If we had no sexual harassment we would hav...</td>\n",
              "      <td>b\"Al-Qa'eda is losing support in Iraq because ...</td>\n",
              "      <td>b'Ceasefire in Georgia: Putin Outmaneuvers the...</td>\n",
              "      <td>b'Why Microsoft and Intel tried to kill the XO...</td>\n",
              "      <td>b'Stratfor: The Russo-Georgian War and the Bal...</td>\n",
              "      <td>b\"I'm Trying to Get a Sense of This Whole Geor...</td>\n",
              "      <td>b\"The US military was surprised by the timing ...</td>\n",
              "      <td>b'U.S. Beats War Drum as Iran Dumps the Dollar'</td>\n",
              "      <td>b'Gorbachev: \"Georgian military attacked the S...</td>\n",
              "      <td>b'CNN use footage of Tskhinvali ruins to cover...</td>\n",
              "      <td>b'Beginning a war as the Olympics were opening...</td>\n",
              "      <td>b'55 pyramids as large as the Luxor stacked in...</td>\n",
              "      <td>b'The 11 Top Party Cities in the World'</td>\n",
              "      <td>b'U.S. troops still in Georgia (did you know t...</td>\n",
              "      <td>b'Why Russias response to Georgia was right'</td>\n",
              "      <td>b'Gorbachev accuses U.S. of making a \"serious ...</td>\n",
              "      <td>b'Russia, Georgia, and NATO: Cold War Two'</td>\n",
              "      <td>b'Remember that adorable 62-year-old who led y...</td>\n",
              "      <td>b'War in Georgia: The Israeli connection'</td>\n",
              "      <td>b'All signs point to the US encouraging Georgi...</td>\n",
              "      <td>b'Christopher King argues that the US and NATO...</td>\n",
              "      <td>b'America: The New Mexico?'</td>\n",
              "      <td>b\"BBC NEWS | Asia-Pacific | Extinction 'by man...</td>\n",
              "    </tr>\n",
              "    <tr>\n",
              "      <th>3</th>\n",
              "      <td>2008-08-13</td>\n",
              "      <td>0</td>\n",
              "      <td>b' U.S. refuses Israel weapons to attack Iran:...</td>\n",
              "      <td>b\"When the president ordered to attack Tskhinv...</td>\n",
              "      <td>b' Israel clears troops who killed Reuters cam...</td>\n",
              "      <td>b'Britain\\'s policy of being tough on drugs is...</td>\n",
              "      <td>b'Body of 14 year old found in trunk; Latest (...</td>\n",
              "      <td>b'China has moved 10 *million* quake survivors...</td>\n",
              "      <td>b\"Bush announces Operation Get All Up In Russi...</td>\n",
              "      <td>b'Russian forces sink Georgian ships '</td>\n",
              "      <td>b\"The commander of a Navy air reconnaissance s...</td>\n",
              "      <td>b\"92% of CNN readers: Russia's actions in Geor...</td>\n",
              "      <td>b'USA to send fleet into Black Sea to help Geo...</td>\n",
              "      <td>b\"US warns against Israeli plan to strike agai...</td>\n",
              "      <td>b\"In an intriguing cyberalliance, two Estonian...</td>\n",
              "      <td>b'The CNN Effect: Georgia Schools Russia in In...</td>\n",
              "      <td>b'Why Russias response to Georgia was right'</td>\n",
              "      <td>b'Elephants extinct by 2020?'</td>\n",
              "      <td>b'US humanitarian missions soon in Georgia - i...</td>\n",
              "      <td>b\"Georgia's DDOS came from US sources\"</td>\n",
              "      <td>b'Russian convoy heads into Georgia, violating...</td>\n",
              "      <td>b'Israeli defence minister: US against strike ...</td>\n",
              "      <td>b'Gorbachev: We Had No Choice'</td>\n",
              "      <td>b'Witness: Russian forces head towards Tbilisi...</td>\n",
              "      <td>b' Quarter of Russians blame U.S. for conflict...</td>\n",
              "      <td>b'Georgian president  says US military will ta...</td>\n",
              "      <td>b'2006: Nobel laureate Aleksander Solzhenitsyn...</td>\n",
              "    </tr>\n",
              "    <tr>\n",
              "      <th>4</th>\n",
              "      <td>2008-08-14</td>\n",
              "      <td>1</td>\n",
              "      <td>b'All the experts admit that we should legalis...</td>\n",
              "      <td>b'War in South Osetia - 89 pictures made by a ...</td>\n",
              "      <td>b'Swedish wrestler Ara Abrahamian throws away ...</td>\n",
              "      <td>b'Russia exaggerated the death toll in South O...</td>\n",
              "      <td>b'Missile That Killed 9 Inside Pakistan May Ha...</td>\n",
              "      <td>b\"Rushdie Condemns Random House's Refusal to P...</td>\n",
              "      <td>b'Poland and US agree to missle defense deal. ...</td>\n",
              "      <td>b'Will the Russians conquer Tblisi? Bet on it,...</td>\n",
              "      <td>b'Russia exaggerating South Ossetian death tol...</td>\n",
              "      <td>b' Musharraf expected to resign rather than fa...</td>\n",
              "      <td>b'Moscow Made Plans Months Ago to Invade Georgia'</td>\n",
              "      <td>b'Why Russias response to Georgia was right'</td>\n",
              "      <td>b'Nigeria has handed over the potentially oil-...</td>\n",
              "      <td>b'The US and Poland have agreed a preliminary ...</td>\n",
              "      <td>b'Russia apparently is sabotaging infrastructu...</td>\n",
              "      <td>b'Bank analyst forecast Georgian crisis 2 days...</td>\n",
              "      <td>b\"Georgia confict could set back Russia's US r...</td>\n",
              "      <td>b'War in the Caucasus is as much the product o...</td>\n",
              "      <td>b'\"Non-media\" photos of South Ossetia/Georgia ...</td>\n",
              "      <td>b'Georgian TV reporter shot by Russian sniper ...</td>\n",
              "      <td>b'Saudi Arabia: Mother moves to block child ma...</td>\n",
              "      <td>b'Taliban wages war on humanitarian aid workers'</td>\n",
              "      <td>b'Russia: World  \"can forget about\" Georgia\\'s...</td>\n",
              "      <td>b'Darfur rebels accuse Sudan of mounting major...</td>\n",
              "      <td>b'Philippines : Peace Advocate say Muslims nee...</td>\n",
              "    </tr>\n",
              "  </tbody>\n",
              "</table>\n",
              "</div>"
            ],
            "text/plain": [
              "         Date  ...                                              Top25\n",
              "0  2008-08-08  ...           b\"No Help for Mexico's Kidnapping Surge\"\n",
              "1  2008-08-11  ...  b\"So this is what it's come to: trading sex fo...\n",
              "2  2008-08-12  ...  b\"BBC NEWS | Asia-Pacific | Extinction 'by man...\n",
              "3  2008-08-13  ...  b'2006: Nobel laureate Aleksander Solzhenitsyn...\n",
              "4  2008-08-14  ...  b'Philippines : Peace Advocate say Muslims nee...\n",
              "\n",
              "[5 rows x 27 columns]"
            ]
          },
          "metadata": {
            "tags": []
          },
          "execution_count": 207
        }
      ]
    },
    {
      "cell_type": "code",
      "metadata": {
        "colab": {
          "base_uri": "https://localhost:8080/",
          "height": 695
        },
        "id": "a7IZBWz8ng7R",
        "outputId": "6b0f60da-2eab-41b2-e069-d9d0eac13976"
      },
      "source": [
        "#clean the features\n",
        "#lower the case\n",
        "#remove punctuation marks\n",
        "#combine them into a features\n",
        "import re\n",
        "def combining_cleaning(headlines):\n",
        "  combined=[]\n",
        "  for i in range(0,len(headlines.index)):\n",
        "    combined.append(' '.join(str(x).lower() for x in headlines.iloc[i,2:27]))\n",
        "  for i in range(0,len(combined)):\n",
        "    combined[i]=re.sub(\"b[(')]+\",'',combined[i])\n",
        "    combined[i]=re.sub(\"\\'\",'',combined[i])\n",
        "    combined[i]=re.sub('b[(\")]+','',combined[i])\n",
        "    combined[i]=re.sub('[(\")]','',combined[i])\n",
        "    combined[i]=re.sub(\"[^a-z]\",\" \",combined[i])\n",
        "  headlines[\"combined_features\"]=combined\n",
        "  return headlines\n",
        "combining_cleaning(headlines).head()"
      ],
      "execution_count": null,
      "outputs": [
        {
          "output_type": "execute_result",
          "data": {
            "text/html": [
              "<div>\n",
              "<style scoped>\n",
              "    .dataframe tbody tr th:only-of-type {\n",
              "        vertical-align: middle;\n",
              "    }\n",
              "\n",
              "    .dataframe tbody tr th {\n",
              "        vertical-align: top;\n",
              "    }\n",
              "\n",
              "    .dataframe thead th {\n",
              "        text-align: right;\n",
              "    }\n",
              "</style>\n",
              "<table border=\"1\" class=\"dataframe\">\n",
              "  <thead>\n",
              "    <tr style=\"text-align: right;\">\n",
              "      <th></th>\n",
              "      <th>Date</th>\n",
              "      <th>Label</th>\n",
              "      <th>Top1</th>\n",
              "      <th>Top2</th>\n",
              "      <th>Top3</th>\n",
              "      <th>Top4</th>\n",
              "      <th>Top5</th>\n",
              "      <th>Top6</th>\n",
              "      <th>Top7</th>\n",
              "      <th>Top8</th>\n",
              "      <th>Top9</th>\n",
              "      <th>Top10</th>\n",
              "      <th>Top11</th>\n",
              "      <th>Top12</th>\n",
              "      <th>Top13</th>\n",
              "      <th>Top14</th>\n",
              "      <th>Top15</th>\n",
              "      <th>Top16</th>\n",
              "      <th>Top17</th>\n",
              "      <th>Top18</th>\n",
              "      <th>Top19</th>\n",
              "      <th>Top20</th>\n",
              "      <th>Top21</th>\n",
              "      <th>Top22</th>\n",
              "      <th>Top23</th>\n",
              "      <th>Top24</th>\n",
              "      <th>Top25</th>\n",
              "      <th>combined_features</th>\n",
              "    </tr>\n",
              "  </thead>\n",
              "  <tbody>\n",
              "    <tr>\n",
              "      <th>0</th>\n",
              "      <td>2008-08-08</td>\n",
              "      <td>0</td>\n",
              "      <td>b\"Georgia 'downs two Russian warplanes' as cou...</td>\n",
              "      <td>b'BREAKING: Musharraf to be impeached.'</td>\n",
              "      <td>b'Russia Today: Columns of troops roll into So...</td>\n",
              "      <td>b'Russian tanks are moving towards the capital...</td>\n",
              "      <td>b\"Afghan children raped with 'impunity,' U.N. ...</td>\n",
              "      <td>b'150 Russian tanks have entered South Ossetia...</td>\n",
              "      <td>b\"Breaking: Georgia invades South Ossetia, Rus...</td>\n",
              "      <td>b\"The 'enemy combatent' trials are nothing but...</td>\n",
              "      <td>b'Georgian troops retreat from S. Osettain cap...</td>\n",
              "      <td>b'Did the U.S. Prep Georgia for War with Russia?'</td>\n",
              "      <td>b'Rice Gives Green Light for Israel to Attack ...</td>\n",
              "      <td>b'Announcing:Class Action Lawsuit on Behalf of...</td>\n",
              "      <td>b\"So---Russia and Georgia are at war and the N...</td>\n",
              "      <td>b\"China tells Bush to stay out of other countr...</td>\n",
              "      <td>b'Did World War III start today?'</td>\n",
              "      <td>b'Georgia Invades South Ossetia - if Russia ge...</td>\n",
              "      <td>b'Al-Qaeda Faces Islamist Backlash'</td>\n",
              "      <td>b'Condoleezza Rice: \"The US would not act to p...</td>\n",
              "      <td>b'This is a busy day:  The European Union has ...</td>\n",
              "      <td>b\"Georgia will withdraw 1,000 soldiers from Ir...</td>\n",
              "      <td>b'Why the Pentagon Thinks Attacking Iran is a ...</td>\n",
              "      <td>b'Caucasus in crisis: Georgia invades South Os...</td>\n",
              "      <td>b'Indian shoe manufactory  - And again in a se...</td>\n",
              "      <td>b'Visitors Suffering from Mental Illnesses Ban...</td>\n",
              "      <td>b\"No Help for Mexico's Kidnapping Surge\"</td>\n",
              "      <td>georgia downs two russian warplanes as countri...</td>\n",
              "    </tr>\n",
              "    <tr>\n",
              "      <th>1</th>\n",
              "      <td>2008-08-11</td>\n",
              "      <td>1</td>\n",
              "      <td>b'Why wont America and Nato help us? If they w...</td>\n",
              "      <td>b'Bush puts foot down on Georgian conflict'</td>\n",
              "      <td>b\"Jewish Georgian minister: Thanks to Israeli ...</td>\n",
              "      <td>b'Georgian army flees in disarray as Russians ...</td>\n",
              "      <td>b\"Olympic opening ceremony fireworks 'faked'\"</td>\n",
              "      <td>b'What were the Mossad with fraudulent New Zea...</td>\n",
              "      <td>b'Russia angered by Israeli military sale to G...</td>\n",
              "      <td>b'An American citizen living in S.Ossetia blam...</td>\n",
              "      <td>b'Welcome To World War IV! Now In High Definit...</td>\n",
              "      <td>b\"Georgia's move, a mistake of monumental prop...</td>\n",
              "      <td>b'Russia presses deeper into Georgia; U.S. say...</td>\n",
              "      <td>b'Abhinav Bindra wins first ever Individual Ol...</td>\n",
              "      <td>b' U.S. ship heads for Arctic to define territ...</td>\n",
              "      <td>b'Drivers in a Jerusalem taxi station threaten...</td>\n",
              "      <td>b'The French Team is Stunned by Phelps and the...</td>\n",
              "      <td>b'Israel and the US behind the Georgian aggres...</td>\n",
              "      <td>b'\"Do not believe TV, neither Russian nor Geor...</td>\n",
              "      <td>b'Riots are still going on in Montreal (Canada...</td>\n",
              "      <td>b'China to overtake US as largest manufacturer'</td>\n",
              "      <td>b'War in South Ossetia [PICS]'</td>\n",
              "      <td>b'Israeli Physicians Group Condemns State Tort...</td>\n",
              "      <td>b' Russia has just beaten the United States ov...</td>\n",
              "      <td>b'Perhaps *the* question about the Georgia - R...</td>\n",
              "      <td>b'Russia is so much better at war'</td>\n",
              "      <td>b\"So this is what it's come to: trading sex fo...</td>\n",
              "      <td>why wont america and nato help us  if they won...</td>\n",
              "    </tr>\n",
              "    <tr>\n",
              "      <th>2</th>\n",
              "      <td>2008-08-12</td>\n",
              "      <td>0</td>\n",
              "      <td>b'Remember that adorable 9-year-old who sang a...</td>\n",
              "      <td>b\"Russia 'ends Georgia operation'\"</td>\n",
              "      <td>b'\"If we had no sexual harassment we would hav...</td>\n",
              "      <td>b\"Al-Qa'eda is losing support in Iraq because ...</td>\n",
              "      <td>b'Ceasefire in Georgia: Putin Outmaneuvers the...</td>\n",
              "      <td>b'Why Microsoft and Intel tried to kill the XO...</td>\n",
              "      <td>b'Stratfor: The Russo-Georgian War and the Bal...</td>\n",
              "      <td>b\"I'm Trying to Get a Sense of This Whole Geor...</td>\n",
              "      <td>b\"The US military was surprised by the timing ...</td>\n",
              "      <td>b'U.S. Beats War Drum as Iran Dumps the Dollar'</td>\n",
              "      <td>b'Gorbachev: \"Georgian military attacked the S...</td>\n",
              "      <td>b'CNN use footage of Tskhinvali ruins to cover...</td>\n",
              "      <td>b'Beginning a war as the Olympics were opening...</td>\n",
              "      <td>b'55 pyramids as large as the Luxor stacked in...</td>\n",
              "      <td>b'The 11 Top Party Cities in the World'</td>\n",
              "      <td>b'U.S. troops still in Georgia (did you know t...</td>\n",
              "      <td>b'Why Russias response to Georgia was right'</td>\n",
              "      <td>b'Gorbachev accuses U.S. of making a \"serious ...</td>\n",
              "      <td>b'Russia, Georgia, and NATO: Cold War Two'</td>\n",
              "      <td>b'Remember that adorable 62-year-old who led y...</td>\n",
              "      <td>b'War in Georgia: The Israeli connection'</td>\n",
              "      <td>b'All signs point to the US encouraging Georgi...</td>\n",
              "      <td>b'Christopher King argues that the US and NATO...</td>\n",
              "      <td>b'America: The New Mexico?'</td>\n",
              "      <td>b\"BBC NEWS | Asia-Pacific | Extinction 'by man...</td>\n",
              "      <td>remember that adorable   year old who sang at ...</td>\n",
              "    </tr>\n",
              "    <tr>\n",
              "      <th>3</th>\n",
              "      <td>2008-08-13</td>\n",
              "      <td>0</td>\n",
              "      <td>b' U.S. refuses Israel weapons to attack Iran:...</td>\n",
              "      <td>b\"When the president ordered to attack Tskhinv...</td>\n",
              "      <td>b' Israel clears troops who killed Reuters cam...</td>\n",
              "      <td>b'Britain\\'s policy of being tough on drugs is...</td>\n",
              "      <td>b'Body of 14 year old found in trunk; Latest (...</td>\n",
              "      <td>b'China has moved 10 *million* quake survivors...</td>\n",
              "      <td>b\"Bush announces Operation Get All Up In Russi...</td>\n",
              "      <td>b'Russian forces sink Georgian ships '</td>\n",
              "      <td>b\"The commander of a Navy air reconnaissance s...</td>\n",
              "      <td>b\"92% of CNN readers: Russia's actions in Geor...</td>\n",
              "      <td>b'USA to send fleet into Black Sea to help Geo...</td>\n",
              "      <td>b\"US warns against Israeli plan to strike agai...</td>\n",
              "      <td>b\"In an intriguing cyberalliance, two Estonian...</td>\n",
              "      <td>b'The CNN Effect: Georgia Schools Russia in In...</td>\n",
              "      <td>b'Why Russias response to Georgia was right'</td>\n",
              "      <td>b'Elephants extinct by 2020?'</td>\n",
              "      <td>b'US humanitarian missions soon in Georgia - i...</td>\n",
              "      <td>b\"Georgia's DDOS came from US sources\"</td>\n",
              "      <td>b'Russian convoy heads into Georgia, violating...</td>\n",
              "      <td>b'Israeli defence minister: US against strike ...</td>\n",
              "      <td>b'Gorbachev: We Had No Choice'</td>\n",
              "      <td>b'Witness: Russian forces head towards Tbilisi...</td>\n",
              "      <td>b' Quarter of Russians blame U.S. for conflict...</td>\n",
              "      <td>b'Georgian president  says US military will ta...</td>\n",
              "      <td>b'2006: Nobel laureate Aleksander Solzhenitsyn...</td>\n",
              "      <td>u s  refuses israel weapons to attack iran  r...</td>\n",
              "    </tr>\n",
              "    <tr>\n",
              "      <th>4</th>\n",
              "      <td>2008-08-14</td>\n",
              "      <td>1</td>\n",
              "      <td>b'All the experts admit that we should legalis...</td>\n",
              "      <td>b'War in South Osetia - 89 pictures made by a ...</td>\n",
              "      <td>b'Swedish wrestler Ara Abrahamian throws away ...</td>\n",
              "      <td>b'Russia exaggerated the death toll in South O...</td>\n",
              "      <td>b'Missile That Killed 9 Inside Pakistan May Ha...</td>\n",
              "      <td>b\"Rushdie Condemns Random House's Refusal to P...</td>\n",
              "      <td>b'Poland and US agree to missle defense deal. ...</td>\n",
              "      <td>b'Will the Russians conquer Tblisi? Bet on it,...</td>\n",
              "      <td>b'Russia exaggerating South Ossetian death tol...</td>\n",
              "      <td>b' Musharraf expected to resign rather than fa...</td>\n",
              "      <td>b'Moscow Made Plans Months Ago to Invade Georgia'</td>\n",
              "      <td>b'Why Russias response to Georgia was right'</td>\n",
              "      <td>b'Nigeria has handed over the potentially oil-...</td>\n",
              "      <td>b'The US and Poland have agreed a preliminary ...</td>\n",
              "      <td>b'Russia apparently is sabotaging infrastructu...</td>\n",
              "      <td>b'Bank analyst forecast Georgian crisis 2 days...</td>\n",
              "      <td>b\"Georgia confict could set back Russia's US r...</td>\n",
              "      <td>b'War in the Caucasus is as much the product o...</td>\n",
              "      <td>b'\"Non-media\" photos of South Ossetia/Georgia ...</td>\n",
              "      <td>b'Georgian TV reporter shot by Russian sniper ...</td>\n",
              "      <td>b'Saudi Arabia: Mother moves to block child ma...</td>\n",
              "      <td>b'Taliban wages war on humanitarian aid workers'</td>\n",
              "      <td>b'Russia: World  \"can forget about\" Georgia\\'s...</td>\n",
              "      <td>b'Darfur rebels accuse Sudan of mounting major...</td>\n",
              "      <td>b'Philippines : Peace Advocate say Muslims nee...</td>\n",
              "      <td>all the experts admit that we should legalise ...</td>\n",
              "    </tr>\n",
              "  </tbody>\n",
              "</table>\n",
              "</div>"
            ],
            "text/plain": [
              "         Date  ...                                  combined_features\n",
              "0  2008-08-08  ...  georgia downs two russian warplanes as countri...\n",
              "1  2008-08-11  ...  why wont america and nato help us  if they won...\n",
              "2  2008-08-12  ...  remember that adorable   year old who sang at ...\n",
              "3  2008-08-13  ...   u s  refuses israel weapons to attack iran  r...\n",
              "4  2008-08-14  ...  all the experts admit that we should legalise ...\n",
              "\n",
              "[5 rows x 28 columns]"
            ]
          },
          "metadata": {
            "tags": []
          },
          "execution_count": 208
        }
      ]
    },
    {
      "cell_type": "code",
      "metadata": {
        "id": "NLvI_dzznkhy"
      },
      "source": [
        "headlines_combined=[]\n",
        "for i in range(0,len(headlines.index)):\n",
        "  headlines_combined.append(headlines['combined_features'][i])\n",
        "countvector=CountVectorizer()\n",
        "count_features=countvector.fit_transform(headlines_combined)"
      ],
      "execution_count": null,
      "outputs": []
    },
    {
      "cell_type": "code",
      "metadata": {
        "id": "JnCQ5HOknnpP"
      },
      "source": [
        "#splitting the data into test and training data\n",
        "X=headlines[['combined_features']]\n",
        "y=headlines[['Label']]\n",
        "X_train,X_test,y_train,y_test=train_test_split(X,y,test_size=0.3,random_state=0)"
      ],
      "execution_count": null,
      "outputs": []
    },
    {
      "cell_type": "code",
      "metadata": {
        "id": "PMZ7ywrlnrPN"
      },
      "source": [
        "X_train=X_train.reset_index()\n",
        "X_test=X_test.reset_index()\n",
        "y_train=y_train.reset_index()\n",
        "y_test=y_test.reset_index()"
      ],
      "execution_count": null,
      "outputs": []
    },
    {
      "cell_type": "code",
      "metadata": {
        "colab": {
          "base_uri": "https://localhost:8080/",
          "height": 424
        },
        "id": "N7Xoi_h3nt12",
        "outputId": "d3b9c000-95bf-4ac6-e92e-4346534beae2"
      },
      "source": [
        "X_train"
      ],
      "execution_count": null,
      "outputs": [
        {
          "output_type": "execute_result",
          "data": {
            "text/html": [
              "<div>\n",
              "<style scoped>\n",
              "    .dataframe tbody tr th:only-of-type {\n",
              "        vertical-align: middle;\n",
              "    }\n",
              "\n",
              "    .dataframe tbody tr th {\n",
              "        vertical-align: top;\n",
              "    }\n",
              "\n",
              "    .dataframe thead th {\n",
              "        text-align: right;\n",
              "    }\n",
              "</style>\n",
              "<table border=\"1\" class=\"dataframe\">\n",
              "  <thead>\n",
              "    <tr style=\"text-align: right;\">\n",
              "      <th></th>\n",
              "      <th>index</th>\n",
              "      <th>combined_features</th>\n",
              "    </tr>\n",
              "  </thead>\n",
              "  <tbody>\n",
              "    <tr>\n",
              "      <th>0</th>\n",
              "      <td>1694</td>\n",
              "      <td>russian official severely beaten after reporti...</td>\n",
              "    </tr>\n",
              "    <tr>\n",
              "      <th>1</th>\n",
              "      <td>1597</td>\n",
              "      <td>each time police shut pirate bay  well multipl...</td>\n",
              "    </tr>\n",
              "    <tr>\n",
              "      <th>2</th>\n",
              "      <td>482</td>\n",
              "      <td>iran  woman adulterer will not face stoning bp...</td>\n",
              "    </tr>\n",
              "    <tr>\n",
              "      <th>3</th>\n",
              "      <td>842</td>\n",
              "      <td>iranian tv airs footage of captured us drone a...</td>\n",
              "    </tr>\n",
              "    <tr>\n",
              "      <th>4</th>\n",
              "      <td>372</td>\n",
              "      <td>internet uprising overturns australian censors...</td>\n",
              "    </tr>\n",
              "    <tr>\n",
              "      <th>...</th>\n",
              "      <td>...</td>\n",
              "      <td>...</td>\n",
              "    </tr>\n",
              "    <tr>\n",
              "      <th>1387</th>\n",
              "      <td>835</td>\n",
              "      <td>uk experiencing the worst disruption to servic...</td>\n",
              "    </tr>\n",
              "    <tr>\n",
              "      <th>1388</th>\n",
              "      <td>1216</td>\n",
              "      <td>edward snowden  the whistleblower behind revel...</td>\n",
              "    </tr>\n",
              "    <tr>\n",
              "      <th>1389</th>\n",
              "      <td>1653</td>\n",
              "      <td>study confirms that abstinence education has u...</td>\n",
              "    </tr>\n",
              "    <tr>\n",
              "      <th>1390</th>\n",
              "      <td>559</td>\n",
              "      <td>wikileaks ready to drop a bombshell on russia ...</td>\n",
              "    </tr>\n",
              "    <tr>\n",
              "      <th>1391</th>\n",
              "      <td>684</td>\n",
              "      <td>fatah and hamas sign reconciliation deal  pale...</td>\n",
              "    </tr>\n",
              "  </tbody>\n",
              "</table>\n",
              "<p>1392 rows × 2 columns</p>\n",
              "</div>"
            ],
            "text/plain": [
              "      index                                  combined_features\n",
              "0      1694  russian official severely beaten after reporti...\n",
              "1      1597  each time police shut pirate bay  well multipl...\n",
              "2       482  iran  woman adulterer will not face stoning bp...\n",
              "3       842  iranian tv airs footage of captured us drone a...\n",
              "4       372  internet uprising overturns australian censors...\n",
              "...     ...                                                ...\n",
              "1387    835  uk experiencing the worst disruption to servic...\n",
              "1388   1216  edward snowden  the whistleblower behind revel...\n",
              "1389   1653  study confirms that abstinence education has u...\n",
              "1390    559  wikileaks ready to drop a bombshell on russia ...\n",
              "1391    684  fatah and hamas sign reconciliation deal  pale...\n",
              "\n",
              "[1392 rows x 2 columns]"
            ]
          },
          "metadata": {
            "tags": []
          },
          "execution_count": 212
        }
      ]
    },
    {
      "cell_type": "code",
      "metadata": {
        "colab": {
          "base_uri": "https://localhost:8080/",
          "height": 424
        },
        "id": "Pvv9jXw6nyBP",
        "outputId": "4da02747-1a08-48b5-c3e6-c4f3c05156cb"
      },
      "source": [
        "X_test"
      ],
      "execution_count": null,
      "outputs": [
        {
          "output_type": "execute_result",
          "data": {
            "text/html": [
              "<div>\n",
              "<style scoped>\n",
              "    .dataframe tbody tr th:only-of-type {\n",
              "        vertical-align: middle;\n",
              "    }\n",
              "\n",
              "    .dataframe tbody tr th {\n",
              "        vertical-align: top;\n",
              "    }\n",
              "\n",
              "    .dataframe thead th {\n",
              "        text-align: right;\n",
              "    }\n",
              "</style>\n",
              "<table border=\"1\" class=\"dataframe\">\n",
              "  <thead>\n",
              "    <tr style=\"text-align: right;\">\n",
              "      <th></th>\n",
              "      <th>index</th>\n",
              "      <th>combined_features</th>\n",
              "    </tr>\n",
              "  </thead>\n",
              "  <tbody>\n",
              "    <tr>\n",
              "      <th>0</th>\n",
              "      <td>1292</td>\n",
              "      <td>irans new president  yes  the holocaust happen...</td>\n",
              "    </tr>\n",
              "    <tr>\n",
              "      <th>1</th>\n",
              "      <td>1310</td>\n",
              "      <td>china smog emergency shuts city of    million ...</td>\n",
              "    </tr>\n",
              "    <tr>\n",
              "      <th>2</th>\n",
              "      <td>960</td>\n",
              "      <td>france to cap executive pay at state firms  no...</td>\n",
              "    </tr>\n",
              "    <tr>\n",
              "      <th>3</th>\n",
              "      <td>107</td>\n",
              "      <td>the video the israeli army didnt want you to s...</td>\n",
              "    </tr>\n",
              "    <tr>\n",
              "      <th>4</th>\n",
              "      <td>1556</td>\n",
              "      <td>doctors without borders loses   medics to ebol...</td>\n",
              "    </tr>\n",
              "    <tr>\n",
              "      <th>...</th>\n",
              "      <td>...</td>\n",
              "      <td>...</td>\n",
              "    </tr>\n",
              "    <tr>\n",
              "      <th>592</th>\n",
              "      <td>108</td>\n",
              "      <td>greece hinders us arms delivery to israel cana...</td>\n",
              "    </tr>\n",
              "    <tr>\n",
              "      <th>593</th>\n",
              "      <td>1611</td>\n",
              "      <td>most cases of cancer are the result of sheer b...</td>\n",
              "    </tr>\n",
              "    <tr>\n",
              "      <th>594</th>\n",
              "      <td>1415</td>\n",
              "      <td>solar power is now just as cheap as convention...</td>\n",
              "    </tr>\n",
              "    <tr>\n",
              "      <th>595</th>\n",
              "      <td>2</td>\n",
              "      <td>remember that adorable   year old who sang at ...</td>\n",
              "    </tr>\n",
              "    <tr>\n",
              "      <th>596</th>\n",
              "      <td>1525</td>\n",
              "      <td>ukraine to seek nato membership u s  says russ...</td>\n",
              "    </tr>\n",
              "  </tbody>\n",
              "</table>\n",
              "<p>597 rows × 2 columns</p>\n",
              "</div>"
            ],
            "text/plain": [
              "     index                                  combined_features\n",
              "0     1292  irans new president  yes  the holocaust happen...\n",
              "1     1310  china smog emergency shuts city of    million ...\n",
              "2      960  france to cap executive pay at state firms  no...\n",
              "3      107  the video the israeli army didnt want you to s...\n",
              "4     1556  doctors without borders loses   medics to ebol...\n",
              "..     ...                                                ...\n",
              "592    108  greece hinders us arms delivery to israel cana...\n",
              "593   1611  most cases of cancer are the result of sheer b...\n",
              "594   1415  solar power is now just as cheap as convention...\n",
              "595      2  remember that adorable   year old who sang at ...\n",
              "596   1525  ukraine to seek nato membership u s  says russ...\n",
              "\n",
              "[597 rows x 2 columns]"
            ]
          },
          "metadata": {
            "tags": []
          },
          "execution_count": 213
        }
      ]
    },
    {
      "cell_type": "code",
      "metadata": {
        "colab": {
          "base_uri": "https://localhost:8080/",
          "height": 424
        },
        "id": "uv8gN3d6n2e7",
        "outputId": "c280ccc5-014a-4c8c-9d1b-35d4bc6237ab"
      },
      "source": [
        "y_train"
      ],
      "execution_count": null,
      "outputs": [
        {
          "output_type": "execute_result",
          "data": {
            "text/html": [
              "<div>\n",
              "<style scoped>\n",
              "    .dataframe tbody tr th:only-of-type {\n",
              "        vertical-align: middle;\n",
              "    }\n",
              "\n",
              "    .dataframe tbody tr th {\n",
              "        vertical-align: top;\n",
              "    }\n",
              "\n",
              "    .dataframe thead th {\n",
              "        text-align: right;\n",
              "    }\n",
              "</style>\n",
              "<table border=\"1\" class=\"dataframe\">\n",
              "  <thead>\n",
              "    <tr style=\"text-align: right;\">\n",
              "      <th></th>\n",
              "      <th>index</th>\n",
              "      <th>Label</th>\n",
              "    </tr>\n",
              "  </thead>\n",
              "  <tbody>\n",
              "    <tr>\n",
              "      <th>0</th>\n",
              "      <td>1694</td>\n",
              "      <td>1</td>\n",
              "    </tr>\n",
              "    <tr>\n",
              "      <th>1</th>\n",
              "      <td>1597</td>\n",
              "      <td>1</td>\n",
              "    </tr>\n",
              "    <tr>\n",
              "      <th>2</th>\n",
              "      <td>482</td>\n",
              "      <td>1</td>\n",
              "    </tr>\n",
              "    <tr>\n",
              "      <th>3</th>\n",
              "      <td>842</td>\n",
              "      <td>1</td>\n",
              "    </tr>\n",
              "    <tr>\n",
              "      <th>4</th>\n",
              "      <td>372</td>\n",
              "      <td>1</td>\n",
              "    </tr>\n",
              "    <tr>\n",
              "      <th>...</th>\n",
              "      <td>...</td>\n",
              "      <td>...</td>\n",
              "    </tr>\n",
              "    <tr>\n",
              "      <th>1387</th>\n",
              "      <td>835</td>\n",
              "      <td>1</td>\n",
              "    </tr>\n",
              "    <tr>\n",
              "      <th>1388</th>\n",
              "      <td>1216</td>\n",
              "      <td>0</td>\n",
              "    </tr>\n",
              "    <tr>\n",
              "      <th>1389</th>\n",
              "      <td>1653</td>\n",
              "      <td>1</td>\n",
              "    </tr>\n",
              "    <tr>\n",
              "      <th>1390</th>\n",
              "      <td>559</td>\n",
              "      <td>0</td>\n",
              "    </tr>\n",
              "    <tr>\n",
              "      <th>1391</th>\n",
              "      <td>684</td>\n",
              "      <td>1</td>\n",
              "    </tr>\n",
              "  </tbody>\n",
              "</table>\n",
              "<p>1392 rows × 2 columns</p>\n",
              "</div>"
            ],
            "text/plain": [
              "      index  Label\n",
              "0      1694      1\n",
              "1      1597      1\n",
              "2       482      1\n",
              "3       842      1\n",
              "4       372      1\n",
              "...     ...    ...\n",
              "1387    835      1\n",
              "1388   1216      0\n",
              "1389   1653      1\n",
              "1390    559      0\n",
              "1391    684      1\n",
              "\n",
              "[1392 rows x 2 columns]"
            ]
          },
          "metadata": {
            "tags": []
          },
          "execution_count": 214
        }
      ]
    },
    {
      "cell_type": "code",
      "metadata": {
        "colab": {
          "base_uri": "https://localhost:8080/",
          "height": 424
        },
        "id": "XzyRrGm5ohX7",
        "outputId": "e02c7ef8-985e-49cf-9775-77e0c6cd2176"
      },
      "source": [
        "y_test"
      ],
      "execution_count": null,
      "outputs": [
        {
          "output_type": "execute_result",
          "data": {
            "text/html": [
              "<div>\n",
              "<style scoped>\n",
              "    .dataframe tbody tr th:only-of-type {\n",
              "        vertical-align: middle;\n",
              "    }\n",
              "\n",
              "    .dataframe tbody tr th {\n",
              "        vertical-align: top;\n",
              "    }\n",
              "\n",
              "    .dataframe thead th {\n",
              "        text-align: right;\n",
              "    }\n",
              "</style>\n",
              "<table border=\"1\" class=\"dataframe\">\n",
              "  <thead>\n",
              "    <tr style=\"text-align: right;\">\n",
              "      <th></th>\n",
              "      <th>index</th>\n",
              "      <th>Label</th>\n",
              "    </tr>\n",
              "  </thead>\n",
              "  <tbody>\n",
              "    <tr>\n",
              "      <th>0</th>\n",
              "      <td>1292</td>\n",
              "      <td>1</td>\n",
              "    </tr>\n",
              "    <tr>\n",
              "      <th>1</th>\n",
              "      <td>1310</td>\n",
              "      <td>1</td>\n",
              "    </tr>\n",
              "    <tr>\n",
              "      <th>2</th>\n",
              "      <td>960</td>\n",
              "      <td>0</td>\n",
              "    </tr>\n",
              "    <tr>\n",
              "      <th>3</th>\n",
              "      <td>107</td>\n",
              "      <td>0</td>\n",
              "    </tr>\n",
              "    <tr>\n",
              "      <th>4</th>\n",
              "      <td>1556</td>\n",
              "      <td>0</td>\n",
              "    </tr>\n",
              "    <tr>\n",
              "      <th>...</th>\n",
              "      <td>...</td>\n",
              "      <td>...</td>\n",
              "    </tr>\n",
              "    <tr>\n",
              "      <th>592</th>\n",
              "      <td>108</td>\n",
              "      <td>0</td>\n",
              "    </tr>\n",
              "    <tr>\n",
              "      <th>593</th>\n",
              "      <td>1611</td>\n",
              "      <td>1</td>\n",
              "    </tr>\n",
              "    <tr>\n",
              "      <th>594</th>\n",
              "      <td>1415</td>\n",
              "      <td>1</td>\n",
              "    </tr>\n",
              "    <tr>\n",
              "      <th>595</th>\n",
              "      <td>2</td>\n",
              "      <td>0</td>\n",
              "    </tr>\n",
              "    <tr>\n",
              "      <th>596</th>\n",
              "      <td>1525</td>\n",
              "      <td>1</td>\n",
              "    </tr>\n",
              "  </tbody>\n",
              "</table>\n",
              "<p>597 rows × 2 columns</p>\n",
              "</div>"
            ],
            "text/plain": [
              "     index  Label\n",
              "0     1292      1\n",
              "1     1310      1\n",
              "2      960      0\n",
              "3      107      0\n",
              "4     1556      0\n",
              "..     ...    ...\n",
              "592    108      0\n",
              "593   1611      1\n",
              "594   1415      1\n",
              "595      2      0\n",
              "596   1525      1\n",
              "\n",
              "[597 rows x 2 columns]"
            ]
          },
          "metadata": {
            "tags": []
          },
          "execution_count": 215
        }
      ]
    },
    {
      "cell_type": "code",
      "metadata": {
        "id": "CC0xjCIcoknb"
      },
      "source": [
        "def countfeatures_train_test(X_train,X_test):\n",
        "  headlines_combined_train=[]\n",
        "  headlines_combined_test=[]\n",
        "  for i in range(0,len(X_train.index)):\n",
        "    headlines_combined_train.append(X_train['combined_features'][i])\n",
        "  for i in range(0,len(X_test.index)):\n",
        "    headlines_combined_test.append(X_test['combined_features'][i])\n",
        "  count_features_train=countvector.fit_transform(headlines_combined_train)\n",
        "  count_features_test=countvector.transform(headlines_combined_test)\n",
        "  return count_features_train,count_features_test\n",
        "count_features_train,count_features_test=countfeatures_train_test(X_train,X_test)"
      ],
      "execution_count": null,
      "outputs": []
    },
    {
      "cell_type": "code",
      "metadata": {
        "colab": {
          "base_uri": "https://localhost:8080/"
        },
        "id": "mz2hU6nnomJT",
        "outputId": "3b6658bc-22f5-43ee-87fd-2b2c4a418889"
      },
      "source": [
        "randomclassifier=RandomForestClassifier(n_estimators=200,criterion='entropy',random_state=0)\n",
        "randomclassifier.fit(count_features_train,y_train['Label'])"
      ],
      "execution_count": null,
      "outputs": [
        {
          "output_type": "execute_result",
          "data": {
            "text/plain": [
              "RandomForestClassifier(bootstrap=True, ccp_alpha=0.0, class_weight=None,\n",
              "                       criterion='entropy', max_depth=None, max_features='auto',\n",
              "                       max_leaf_nodes=None, max_samples=None,\n",
              "                       min_impurity_decrease=0.0, min_impurity_split=None,\n",
              "                       min_samples_leaf=1, min_samples_split=2,\n",
              "                       min_weight_fraction_leaf=0.0, n_estimators=200,\n",
              "                       n_jobs=None, oob_score=False, random_state=0, verbose=0,\n",
              "                       warm_start=False)"
            ]
          },
          "metadata": {
            "tags": []
          },
          "execution_count": 219
        }
      ]
    },
    {
      "cell_type": "code",
      "metadata": {
        "id": "loq9hz5eoqjj"
      },
      "source": [
        "predict_sent_rand=randomclassifier.predict(count_features_test)"
      ],
      "execution_count": null,
      "outputs": []
    },
    {
      "cell_type": "code",
      "metadata": {
        "colab": {
          "base_uri": "https://localhost:8080/"
        },
        "id": "5Dl0rNglqbDJ",
        "outputId": "5bfbcac9-f603-46af-8dab-085bb5b707dd"
      },
      "source": [
        "cm_rand=confusion_matrix(y_test['Label'],predict_sent_rand)\n",
        "acc_score_rand=accuracy_score(y_test['Label'],predict_sent_rand)\n",
        "rand_sent_report=classification_report(y_test['Label'],predict_sent_rand)\n",
        "print(cm_rand)\n",
        "print(acc_score_rand)\n",
        "print(rand_sent_report)"
      ],
      "execution_count": null,
      "outputs": [
        {
          "output_type": "stream",
          "text": [
            "[[ 59 222]\n",
            " [ 54 262]]\n",
            "0.5376884422110553\n",
            "              precision    recall  f1-score   support\n",
            "\n",
            "           0       0.52      0.21      0.30       281\n",
            "           1       0.54      0.83      0.65       316\n",
            "\n",
            "    accuracy                           0.54       597\n",
            "   macro avg       0.53      0.52      0.48       597\n",
            "weighted avg       0.53      0.54      0.49       597\n",
            "\n"
          ],
          "name": "stdout"
        }
      ]
    },
    {
      "cell_type": "code",
      "metadata": {
        "id": "1wQ0LKadqkaJ"
      },
      "source": [
        "log_sent=LogisticRegression()\n",
        "log_sent.fit(count_features_train,y_train['Label'])\n",
        "predict_sent_log=log_sent.predict(count_features_test)"
      ],
      "execution_count": null,
      "outputs": []
    },
    {
      "cell_type": "code",
      "metadata": {
        "colab": {
          "base_uri": "https://localhost:8080/"
        },
        "id": "8eLi1CInqpLa",
        "outputId": "2f20d36c-b865-4898-ffe6-506809396eaa"
      },
      "source": [
        "cm_log=confusion_matrix(y_test['Label'],predict_sent_log)\n",
        "acc_score_log=accuracy_score(y_test['Label'],predict_sent_log)\n",
        "log_sent_report=classification_report(y_test['Label'],predict_sent_log)\n",
        "print(cm_log)\n",
        "print(acc_score_log)\n",
        "print(log_sent_report)"
      ],
      "execution_count": null,
      "outputs": [
        {
          "output_type": "stream",
          "text": [
            "[[124 157]\n",
            " [141 175]]\n",
            "0.5008375209380235\n",
            "              precision    recall  f1-score   support\n",
            "\n",
            "           0       0.47      0.44      0.45       281\n",
            "           1       0.53      0.55      0.54       316\n",
            "\n",
            "    accuracy                           0.50       597\n",
            "   macro avg       0.50      0.50      0.50       597\n",
            "weighted avg       0.50      0.50      0.50       597\n",
            "\n"
          ],
          "name": "stdout"
        }
      ]
    },
    {
      "cell_type": "code",
      "metadata": {
        "colab": {
          "base_uri": "https://localhost:8080/"
        },
        "id": "-KmiozAKqsXs",
        "outputId": "91548abf-316b-4f4b-c9dd-513930524df1"
      },
      "source": [
        "lda_sent=LinearDiscriminantAnalysis()\n",
        "lda_sent.fit(count_features_train.toarray(),y_train['Label'])\n",
        "predict_sent_lda=lda_sent.predict(count_features_test.toarray())\n",
        "cm_lda=confusion_matrix(y_test['Label'],predict_sent_lda)\n",
        "acc_score_lda=accuracy_score(y_test['Label'],predict_sent_lda)\n",
        "lda_sent_report=classification_report(y_test['Label'],predict_sent_lda)\n",
        "print(cm_lda)\n",
        "print(acc_score_lda)\n",
        "print(lda_sent_report)"
      ],
      "execution_count": null,
      "outputs": [
        {
          "output_type": "stream",
          "text": [
            "[[ 31 250]\n",
            " [ 34 282]]\n",
            "0.52428810720268\n",
            "              precision    recall  f1-score   support\n",
            "\n",
            "           0       0.48      0.11      0.18       281\n",
            "           1       0.53      0.89      0.67       316\n",
            "\n",
            "    accuracy                           0.52       597\n",
            "   macro avg       0.50      0.50      0.42       597\n",
            "weighted avg       0.51      0.52      0.44       597\n",
            "\n"
          ],
          "name": "stdout"
        }
      ]
    },
    {
      "cell_type": "code",
      "metadata": {
        "colab": {
          "base_uri": "https://localhost:8080/"
        },
        "id": "O6J2o7sAqwAl",
        "outputId": "870348b0-e407-4c6c-a538-c0d390d648c5"
      },
      "source": [
        "decision_sent=DecisionTreeClassifier()\n",
        "decision_sent.fit(count_features_train,y_train['Label'])\n",
        "predict_sent_decision=decision_sent.predict(count_features_test)\n",
        "cm_decision=confusion_matrix(y_test['Label'],predict_sent_decision)\n",
        "acc_score_decision=accuracy_score(y_test['Label'],predict_sent_decision)\n",
        "decision_sent_report=classification_report(y_test['Label'],predict_sent_decision)\n",
        "print(cm_decision)\n",
        "print(acc_score_decision)\n",
        "print(decision_sent_report)"
      ],
      "execution_count": null,
      "outputs": [
        {
          "output_type": "stream",
          "text": [
            "[[132 149]\n",
            " [167 149]]\n",
            "0.47068676716917923\n",
            "              precision    recall  f1-score   support\n",
            "\n",
            "           0       0.44      0.47      0.46       281\n",
            "           1       0.50      0.47      0.49       316\n",
            "\n",
            "    accuracy                           0.47       597\n",
            "   macro avg       0.47      0.47      0.47       597\n",
            "weighted avg       0.47      0.47      0.47       597\n",
            "\n"
          ],
          "name": "stdout"
        }
      ]
    },
    {
      "cell_type": "code",
      "metadata": {
        "colab": {
          "base_uri": "https://localhost:8080/"
        },
        "id": "d15qEzhnqzH6",
        "outputId": "69fa6d8f-0603-4a48-cd8a-87ee8fcddb47"
      },
      "source": [
        "svm_sent=SVC()\n",
        "svm_sent.fit(count_features_train,y_train['Label'])\n",
        "predict_sent_svm=svm_sent.predict(count_features_test)\n",
        "cm_svm=confusion_matrix(y_test['Label'],predict_sent_svm)\n",
        "acc_score_svm=accuracy_score(y_test['Label'],predict_sent_svm)\n",
        "svm_sent_report=classification_report(y_test['Label'],predict_sent_svm)\n",
        "print(cm_svm)\n",
        "print(acc_score_svm)\n",
        "print(svm_sent_report)"
      ],
      "execution_count": null,
      "outputs": [
        {
          "output_type": "stream",
          "text": [
            "[[  6 275]\n",
            " [  3 313]]\n",
            "0.5343383584589615\n",
            "              precision    recall  f1-score   support\n",
            "\n",
            "           0       0.67      0.02      0.04       281\n",
            "           1       0.53      0.99      0.69       316\n",
            "\n",
            "    accuracy                           0.53       597\n",
            "   macro avg       0.60      0.51      0.37       597\n",
            "weighted avg       0.60      0.53      0.39       597\n",
            "\n"
          ],
          "name": "stdout"
        }
      ]
    },
    {
      "cell_type": "code",
      "metadata": {
        "colab": {
          "base_uri": "https://localhost:8080/",
          "height": 283
        },
        "id": "A-Q2HDWLq2xI",
        "outputId": "1cd8a662-72a0-4954-d19a-aec342e0232a"
      },
      "source": [
        "sns.heatmap(cm_svm,annot=True)"
      ],
      "execution_count": null,
      "outputs": [
        {
          "output_type": "execute_result",
          "data": {
            "text/plain": [
              "<matplotlib.axes._subplots.AxesSubplot at 0x7f2fe268f908>"
            ]
          },
          "metadata": {
            "tags": []
          },
          "execution_count": 229
        },
        {
          "output_type": "display_data",
          "data": {
            "image/png": "[encoded data removed]",
            "text/plain": [
              "<Figure size 432x288 with 2 Axes>"
            ]
          },
          "metadata": {
            "tags": [],
            "needs_background": "light"
          }
        }
      ]
    },
    {
      "cell_type": "code",
      "metadata": {
        "colab": {
          "base_uri": "https://localhost:8080/",
          "height": 283
        },
        "id": "_ZtoKKY5q6G0",
        "outputId": "d2fcc7d8-5a67-4b5e-a390-bda8a4c753ef"
      },
      "source": [
        "sns.heatmap(cm_decision,annot=True)"
      ],
      "execution_count": null,
      "outputs": [
        {
          "output_type": "execute_result",
          "data": {
            "text/plain": [
              "<matplotlib.axes._subplots.AxesSubplot at 0x7f2ff6605e48>"
            ]
          },
          "metadata": {
            "tags": []
          },
          "execution_count": 230
        },
        {
          "output_type": "display_data",
          "data": {
            "image/png": "[encoded data removed]",
            "text/plain": [
              "<Figure size 432x288 with 2 Axes>"
            ]
          },
          "metadata": {
            "tags": [],
            "needs_background": "light"
          }
        }
      ]
    },
    {
      "cell_type": "code",
      "metadata": {
        "colab": {
          "base_uri": "https://localhost:8080/",
          "height": 283
        },
        "id": "ujDRv4Pjq-S7",
        "outputId": "1733b93e-6c8d-4aaf-b292-d87615967670"
      },
      "source": [
        "sns.heatmap(cm_lda,annot=True)"
      ],
      "execution_count": null,
      "outputs": [
        {
          "output_type": "execute_result",
          "data": {
            "text/plain": [
              "<matplotlib.axes._subplots.AxesSubplot at 0x7f2ff534f320>"
            ]
          },
          "metadata": {
            "tags": []
          },
          "execution_count": 231
        },
        {
          "output_type": "display_data",
          "data": {
            "image/png": "[encoded data removed]",
            "text/plain": [
              "<Figure size 432x288 with 2 Axes>"
            ]
          },
          "metadata": {
            "tags": [],
            "needs_background": "light"
          }
        }
      ]
    },
    {
      "cell_type": "code",
      "metadata": {
        "colab": {
          "base_uri": "https://localhost:8080/",
          "height": 283
        },
        "id": "maDP5H1brGg4",
        "outputId": "909bec57-9b39-461e-cf0e-b40023dc8b29"
      },
      "source": [
        "sns.heatmap(cm_log,annot=True)"
      ],
      "execution_count": null,
      "outputs": [
        {
          "output_type": "execute_result",
          "data": {
            "text/plain": [
              "<matplotlib.axes._subplots.AxesSubplot at 0x7f2ff52af7b8>"
            ]
          },
          "metadata": {
            "tags": []
          },
          "execution_count": 232
        },
        {
          "output_type": "display_data",
          "data": {
            "image/png": "[encoded data removed]",
            "text/plain": [
              "<Figure size 432x288 with 2 Axes>"
            ]
          },
          "metadata": {
            "tags": [],
            "needs_background": "light"
          }
        }
      ]
    },
    {
      "cell_type": "code",
      "metadata": {
        "colab": {
          "base_uri": "https://localhost:8080/",
          "height": 283
        },
        "id": "WNVmLRyArJpy",
        "outputId": "13f8dcd8-0f12-48c5-9915-367beaa34768"
      },
      "source": [
        "sns.heatmap(cm_rand,annot=True)"
      ],
      "execution_count": null,
      "outputs": [
        {
          "output_type": "execute_result",
          "data": {
            "text/plain": [
              "<matplotlib.axes._subplots.AxesSubplot at 0x7f2ff52e48d0>"
            ]
          },
          "metadata": {
            "tags": []
          },
          "execution_count": 233
        },
        {
          "output_type": "display_data",
          "data": {
            "image/png": "[encoded data removed]",
            "text/plain": [
              "<Figure size 432x288 with 2 Axes>"
            ]
          },
          "metadata": {
            "tags": [],
            "needs_background": "light"
          }
        }
      ]
    },
    {
      "cell_type": "code",
      "metadata": {
        "colab": {
          "base_uri": "https://localhost:8080/",
          "height": 206
        },
        "id": "E8Em_Er0rMgS",
        "outputId": "f3507c69-338e-47d4-cb9a-7d73b8b467f4"
      },
      "source": [
        "#now let us merge our stock prices and news headlines to get effective analysis\n",
        "apple_stock=pd.read_csv('appleshare.csv')\n",
        "from datetime import datetime\n",
        "for i in range(0,len(apple_stock)):\n",
        "  X=datetime.strptime(apple_stock['Date'][i], '%Y-%m-%d').strftime('%Y-%m-%d')\n",
        "apple_stock.head()"
      ],
      "execution_count": null,
      "outputs": [
        {
          "output_type": "execute_result",
          "data": {
            "text/html": [
              "<div>\n",
              "<style scoped>\n",
              "    .dataframe tbody tr th:only-of-type {\n",
              "        vertical-align: middle;\n",
              "    }\n",
              "\n",
              "    .dataframe tbody tr th {\n",
              "        vertical-align: top;\n",
              "    }\n",
              "\n",
              "    .dataframe thead th {\n",
              "        text-align: right;\n",
              "    }\n",
              "</style>\n",
              "<table border=\"1\" class=\"dataframe\">\n",
              "  <thead>\n",
              "    <tr style=\"text-align: right;\">\n",
              "      <th></th>\n",
              "      <th>Date</th>\n",
              "      <th>Open</th>\n",
              "      <th>High</th>\n",
              "      <th>Low</th>\n",
              "      <th>Close</th>\n",
              "      <th>Adj Close</th>\n",
              "      <th>Volume</th>\n",
              "      <th>Date.1</th>\n",
              "    </tr>\n",
              "  </thead>\n",
              "  <tbody>\n",
              "    <tr>\n",
              "      <th>0</th>\n",
              "      <td>2008-08-08</td>\n",
              "      <td>5.852143</td>\n",
              "      <td>6.058928</td>\n",
              "      <td>5.848214</td>\n",
              "      <td>6.055357</td>\n",
              "      <td>5.181238</td>\n",
              "      <td>713997200</td>\n",
              "      <td>2008-08-08</td>\n",
              "    </tr>\n",
              "    <tr>\n",
              "      <th>1</th>\n",
              "      <td>2008-08-11</td>\n",
              "      <td>6.073928</td>\n",
              "      <td>6.303571</td>\n",
              "      <td>6.059643</td>\n",
              "      <td>6.198571</td>\n",
              "      <td>5.303779</td>\n",
              "      <td>891304400</td>\n",
              "      <td>2008-08-11</td>\n",
              "    </tr>\n",
              "    <tr>\n",
              "      <th>2</th>\n",
              "      <td>2008-08-12</td>\n",
              "      <td>6.197143</td>\n",
              "      <td>6.403214</td>\n",
              "      <td>6.196786</td>\n",
              "      <td>6.311786</td>\n",
              "      <td>5.400651</td>\n",
              "      <td>836278800</td>\n",
              "      <td>2008-08-12</td>\n",
              "    </tr>\n",
              "    <tr>\n",
              "      <th>3</th>\n",
              "      <td>2008-08-13</td>\n",
              "      <td>6.356429</td>\n",
              "      <td>6.428571</td>\n",
              "      <td>6.282143</td>\n",
              "      <td>6.403572</td>\n",
              "      <td>5.479187</td>\n",
              "      <td>842346400</td>\n",
              "      <td>2008-08-13</td>\n",
              "    </tr>\n",
              "    <tr>\n",
              "      <th>4</th>\n",
              "      <td>2008-08-14</td>\n",
              "      <td>6.368928</td>\n",
              "      <td>6.444643</td>\n",
              "      <td>6.351429</td>\n",
              "      <td>6.404286</td>\n",
              "      <td>5.479797</td>\n",
              "      <td>711300800</td>\n",
              "      <td>2008-08-14</td>\n",
              "    </tr>\n",
              "  </tbody>\n",
              "</table>\n",
              "</div>"
            ],
            "text/plain": [
              "         Date      Open      High  ...  Adj Close     Volume      Date.1\n",
              "0  2008-08-08  5.852143  6.058928  ...   5.181238  713997200  2008-08-08\n",
              "1  2008-08-11  6.073928  6.303571  ...   5.303779  891304400  2008-08-11\n",
              "2  2008-08-12  6.197143  6.403214  ...   5.400651  836278800  2008-08-12\n",
              "3  2008-08-13  6.356429  6.428571  ...   5.479187  842346400  2008-08-13\n",
              "4  2008-08-14  6.368928  6.444643  ...   5.479797  711300800  2008-08-14\n",
              "\n",
              "[5 rows x 8 columns]"
            ]
          },
          "metadata": {
            "tags": []
          },
          "execution_count": 241
        }
      ]
    },
    {
      "cell_type": "code",
      "metadata": {
        "id": "dYQ3fFsWrvPR"
      },
      "source": [
        "#now let us combine apple_stock and headlines on 'Date' \n",
        "headlines_apple=headlines.merge(apple_stock,how='inner',on='Date')"
      ],
      "execution_count": null,
      "outputs": []
    },
    {
      "cell_type": "code",
      "metadata": {
        "colab": {
          "base_uri": "https://localhost:8080/"
        },
        "id": "H-l6K9N_r32W",
        "outputId": "5a8faf55-ca8f-4618-b565-dfbeaf5613a0"
      },
      "source": [
        "headlines_apple.columns"
      ],
      "execution_count": null,
      "outputs": [
        {
          "output_type": "execute_result",
          "data": {
            "text/plain": [
              "Index(['Date', 'Label', 'Top1', 'Top2', 'Top3', 'Top4', 'Top5', 'Top6', 'Top7',\n",
              "       'Top8', 'Top9', 'Top10', 'Top11', 'Top12', 'Top13', 'Top14', 'Top15',\n",
              "       'Top16', 'Top17', 'Top18', 'Top19', 'Top20', 'Top21', 'Top22', 'Top23',\n",
              "       'Top24', 'Top25', 'combined_features', 'Open', 'High', 'Low', 'Close',\n",
              "       'Adj Close', 'Volume', 'Date.1'],\n",
              "      dtype='object')"
            ]
          },
          "metadata": {
            "tags": []
          },
          "execution_count": 244
        }
      ]
    },
    {
      "cell_type": "code",
      "metadata": {
        "colab": {
          "base_uri": "https://localhost:8080/",
          "height": 300
        },
        "id": "SN6KPDGzr3w2",
        "outputId": "69379c86-ffa7-4f56-d4b3-ee94416974f4"
      },
      "source": [
        "headlines_apple.describe()"
      ],
      "execution_count": null,
      "outputs": [
        {
          "output_type": "execute_result",
          "data": {
            "text/html": [
              "<div>\n",
              "<style scoped>\n",
              "    .dataframe tbody tr th:only-of-type {\n",
              "        vertical-align: middle;\n",
              "    }\n",
              "\n",
              "    .dataframe tbody tr th {\n",
              "        vertical-align: top;\n",
              "    }\n",
              "\n",
              "    .dataframe thead th {\n",
              "        text-align: right;\n",
              "    }\n",
              "</style>\n",
              "<table border=\"1\" class=\"dataframe\">\n",
              "  <thead>\n",
              "    <tr style=\"text-align: right;\">\n",
              "      <th></th>\n",
              "      <th>Label</th>\n",
              "      <th>Open</th>\n",
              "      <th>High</th>\n",
              "      <th>Low</th>\n",
              "      <th>Close</th>\n",
              "      <th>Adj Close</th>\n",
              "      <th>Volume</th>\n",
              "    </tr>\n",
              "  </thead>\n",
              "  <tbody>\n",
              "    <tr>\n",
              "      <th>count</th>\n",
              "      <td>1988.000000</td>\n",
              "      <td>1988.000000</td>\n",
              "      <td>1988.000000</td>\n",
              "      <td>1988.000000</td>\n",
              "      <td>1988.000000</td>\n",
              "      <td>1988.000000</td>\n",
              "      <td>1.988000e+03</td>\n",
              "    </tr>\n",
              "    <tr>\n",
              "      <th>mean</th>\n",
              "      <td>0.535211</td>\n",
              "      <td>16.728833</td>\n",
              "      <td>16.886780</td>\n",
              "      <td>16.551152</td>\n",
              "      <td>16.720844</td>\n",
              "      <td>14.792745</td>\n",
              "      <td>4.573919e+08</td>\n",
              "    </tr>\n",
              "    <tr>\n",
              "      <th>std</th>\n",
              "      <td>0.498884</td>\n",
              "      <td>8.416471</td>\n",
              "      <td>8.479990</td>\n",
              "      <td>8.342657</td>\n",
              "      <td>8.410058</td>\n",
              "      <td>7.756371</td>\n",
              "      <td>3.113076e+08</td>\n",
              "    </tr>\n",
              "    <tr>\n",
              "      <th>min</th>\n",
              "      <td>0.000000</td>\n",
              "      <td>2.835357</td>\n",
              "      <td>2.928571</td>\n",
              "      <td>2.792857</td>\n",
              "      <td>2.792857</td>\n",
              "      <td>2.389696</td>\n",
              "      <td>5.218560e+07</td>\n",
              "    </tr>\n",
              "    <tr>\n",
              "      <th>25%</th>\n",
              "      <td>0.000000</td>\n",
              "      <td>9.320536</td>\n",
              "      <td>9.402946</td>\n",
              "      <td>9.203215</td>\n",
              "      <td>9.318839</td>\n",
              "      <td>7.973621</td>\n",
              "      <td>2.438428e+08</td>\n",
              "    </tr>\n",
              "    <tr>\n",
              "      <th>50%</th>\n",
              "      <td>1.000000</td>\n",
              "      <td>16.341249</td>\n",
              "      <td>16.440357</td>\n",
              "      <td>16.185179</td>\n",
              "      <td>16.306428</td>\n",
              "      <td>14.141393</td>\n",
              "      <td>3.888094e+08</td>\n",
              "    </tr>\n",
              "    <tr>\n",
              "      <th>75%</th>\n",
              "      <td>1.000000</td>\n",
              "      <td>23.724733</td>\n",
              "      <td>23.932857</td>\n",
              "      <td>23.446428</td>\n",
              "      <td>23.685357</td>\n",
              "      <td>21.274402</td>\n",
              "      <td>5.747861e+08</td>\n",
              "    </tr>\n",
              "    <tr>\n",
              "      <th>max</th>\n",
              "      <td>1.000000</td>\n",
              "      <td>33.615002</td>\n",
              "      <td>33.634998</td>\n",
              "      <td>32.849998</td>\n",
              "      <td>33.250000</td>\n",
              "      <td>30.182924</td>\n",
              "      <td>2.622057e+09</td>\n",
              "    </tr>\n",
              "  </tbody>\n",
              "</table>\n",
              "</div>"
            ],
            "text/plain": [
              "             Label         Open  ...    Adj Close        Volume\n",
              "count  1988.000000  1988.000000  ...  1988.000000  1.988000e+03\n",
              "mean      0.535211    16.728833  ...    14.792745  4.573919e+08\n",
              "std       0.498884     8.416471  ...     7.756371  3.113076e+08\n",
              "min       0.000000     2.835357  ...     2.389696  5.218560e+07\n",
              "25%       0.000000     9.320536  ...     7.973621  2.438428e+08\n",
              "50%       1.000000    16.341249  ...    14.141393  3.888094e+08\n",
              "75%       1.000000    23.724733  ...    21.274402  5.747861e+08\n",
              "max       1.000000    33.615002  ...    30.182924  2.622057e+09\n",
              "\n",
              "[8 rows x 7 columns]"
            ]
          },
          "metadata": {
            "tags": []
          },
          "execution_count": 245
        }
      ]
    },
    {
      "cell_type": "code",
      "metadata": {
        "id": "I4Z11h7zr91u"
      },
      "source": [
        "#find the polarity and subjectivity of the combined features\n",
        "polarity=[]\n",
        "subjectivity=[]\n",
        "negativity=[]\n",
        "positivity=[]\n",
        "neutrality=[]\n",
        "for i in range(0,len(headlines_apple.index)):\n",
        "  polarity.append(TextBlob(headlines_apple['combined_features'][i]).sentiment.polarity)\n",
        "  subjectivity.append(TextBlob(headlines_apple['combined_features'][i]).sentiment.subjectivity)\n",
        "  negativity.append(sid.polarity_scores(headlines_apple['combined_features'][i])['neg'])\n",
        "  positivity.append(sid.polarity_scores(headlines_apple['combined_features'][i])['pos'])\n",
        "  neutrality.append(sid.polarity_scores(headlines_apple['combined_features'][i])['neu'])"
      ],
      "execution_count": null,
      "outputs": []
    },
    {
      "cell_type": "code",
      "metadata": {
        "id": "eHL2mMVasBUK"
      },
      "source": [
        "headlines_apple['polarity']=polarity\n",
        "headlines_apple['subjectivity']=subjectivity\n",
        "headlines_apple['negativity']=negativity\n",
        "headlines_apple['positivity']=positivity\n",
        "headlines_apple['neutrality']=neutrality"
      ],
      "execution_count": null,
      "outputs": []
    },
    {
      "cell_type": "code",
      "metadata": {
        "colab": {
          "base_uri": "https://localhost:8080/"
        },
        "id": "iCWtkuYAsEdI",
        "outputId": "e4214e45-8d74-41b3-b899-14e088e8af5a"
      },
      "source": [
        "headlines_apple.columns"
      ],
      "execution_count": null,
      "outputs": [
        {
          "output_type": "execute_result",
          "data": {
            "text/plain": [
              "Index(['Date', 'Label', 'Top1', 'Top2', 'Top3', 'Top4', 'Top5', 'Top6', 'Top7',\n",
              "       'Top8', 'Top9', 'Top10', 'Top11', 'Top12', 'Top13', 'Top14', 'Top15',\n",
              "       'Top16', 'Top17', 'Top18', 'Top19', 'Top20', 'Top21', 'Top22', 'Top23',\n",
              "       'Top24', 'Top25', 'combined_features', 'Open', 'High', 'Low', 'Close',\n",
              "       'Adj Close', 'Volume', 'Date.1', 'polarity', 'subjectivity',\n",
              "       'negativity', 'positivity', 'neutrality'],\n",
              "      dtype='object')"
            ]
          },
          "metadata": {
            "tags": []
          },
          "execution_count": 248
        }
      ]
    },
    {
      "cell_type": "code",
      "metadata": {
        "id": "hk-4xKkEsHbX"
      },
      "source": [
        "X_merge=headlines_apple[['Open','High','Low','Volume','polarity','subjectivity','negativity','positivity','neutrality']]\n",
        "y_merge=headlines_apple[['Label']]"
      ],
      "execution_count": null,
      "outputs": []
    },
    {
      "cell_type": "code",
      "metadata": {
        "colab": {
          "base_uri": "https://localhost:8080/",
          "height": 424
        },
        "id": "6r7_-fy0sJw5",
        "outputId": "f1f90a6f-e5a5-4f90-e675-b9ba39df1a8b"
      },
      "source": [
        "X_merge"
      ],
      "execution_count": null,
      "outputs": [
        {
          "output_type": "execute_result",
          "data": {
            "text/html": [
              "<div>\n",
              "<style scoped>\n",
              "    .dataframe tbody tr th:only-of-type {\n",
              "        vertical-align: middle;\n",
              "    }\n",
              "\n",
              "    .dataframe tbody tr th {\n",
              "        vertical-align: top;\n",
              "    }\n",
              "\n",
              "    .dataframe thead th {\n",
              "        text-align: right;\n",
              "    }\n",
              "</style>\n",
              "<table border=\"1\" class=\"dataframe\">\n",
              "  <thead>\n",
              "    <tr style=\"text-align: right;\">\n",
              "      <th></th>\n",
              "      <th>Open</th>\n",
              "      <th>High</th>\n",
              "      <th>Low</th>\n",
              "      <th>Volume</th>\n",
              "      <th>polarity</th>\n",
              "      <th>subjectivity</th>\n",
              "      <th>negativity</th>\n",
              "      <th>positivity</th>\n",
              "      <th>neutrality</th>\n",
              "    </tr>\n",
              "  </thead>\n",
              "  <tbody>\n",
              "    <tr>\n",
              "      <th>0</th>\n",
              "      <td>5.852143</td>\n",
              "      <td>6.058928</td>\n",
              "      <td>5.848214</td>\n",
              "      <td>713997200</td>\n",
              "      <td>-0.048568</td>\n",
              "      <td>0.267549</td>\n",
              "      <td>0.234</td>\n",
              "      <td>0.057</td>\n",
              "      <td>0.708</td>\n",
              "    </tr>\n",
              "    <tr>\n",
              "      <th>1</th>\n",
              "      <td>6.073928</td>\n",
              "      <td>6.303571</td>\n",
              "      <td>6.059643</td>\n",
              "      <td>891304400</td>\n",
              "      <td>0.109325</td>\n",
              "      <td>0.374806</td>\n",
              "      <td>0.187</td>\n",
              "      <td>0.101</td>\n",
              "      <td>0.712</td>\n",
              "    </tr>\n",
              "    <tr>\n",
              "      <th>2</th>\n",
              "      <td>6.197143</td>\n",
              "      <td>6.403214</td>\n",
              "      <td>6.196786</td>\n",
              "      <td>836278800</td>\n",
              "      <td>-0.033202</td>\n",
              "      <td>0.510370</td>\n",
              "      <td>0.135</td>\n",
              "      <td>0.052</td>\n",
              "      <td>0.813</td>\n",
              "    </tr>\n",
              "    <tr>\n",
              "      <th>3</th>\n",
              "      <td>6.356429</td>\n",
              "      <td>6.428571</td>\n",
              "      <td>6.282143</td>\n",
              "      <td>842346400</td>\n",
              "      <td>0.005842</td>\n",
              "      <td>0.364021</td>\n",
              "      <td>0.156</td>\n",
              "      <td>0.068</td>\n",
              "      <td>0.776</td>\n",
              "    </tr>\n",
              "    <tr>\n",
              "      <th>4</th>\n",
              "      <td>6.368928</td>\n",
              "      <td>6.444643</td>\n",
              "      <td>6.351429</td>\n",
              "      <td>711300800</td>\n",
              "      <td>0.049050</td>\n",
              "      <td>0.390095</td>\n",
              "      <td>0.201</td>\n",
              "      <td>0.101</td>\n",
              "      <td>0.698</td>\n",
              "    </tr>\n",
              "    <tr>\n",
              "      <th>...</th>\n",
              "      <td>...</td>\n",
              "      <td>...</td>\n",
              "      <td>...</td>\n",
              "      <td>...</td>\n",
              "      <td>...</td>\n",
              "      <td>...</td>\n",
              "      <td>...</td>\n",
              "      <td>...</td>\n",
              "      <td>...</td>\n",
              "    </tr>\n",
              "    <tr>\n",
              "      <th>1983</th>\n",
              "      <td>23.227501</td>\n",
              "      <td>23.665001</td>\n",
              "      <td>23.162500</td>\n",
              "      <td>301245600</td>\n",
              "      <td>0.036343</td>\n",
              "      <td>0.365079</td>\n",
              "      <td>0.101</td>\n",
              "      <td>0.052</td>\n",
              "      <td>0.847</td>\n",
              "    </tr>\n",
              "    <tr>\n",
              "      <th>1984</th>\n",
              "      <td>23.250000</td>\n",
              "      <td>23.262501</td>\n",
              "      <td>22.875000</td>\n",
              "      <td>181958400</td>\n",
              "      <td>-0.014015</td>\n",
              "      <td>0.352311</td>\n",
              "      <td>0.165</td>\n",
              "      <td>0.089</td>\n",
              "      <td>0.746</td>\n",
              "    </tr>\n",
              "    <tr>\n",
              "      <th>1985</th>\n",
              "      <td>23.225000</td>\n",
              "      <td>23.415001</td>\n",
              "      <td>23.035000</td>\n",
              "      <td>161779600</td>\n",
              "      <td>0.047722</td>\n",
              "      <td>0.349330</td>\n",
              "      <td>0.136</td>\n",
              "      <td>0.105</td>\n",
              "      <td>0.758</td>\n",
              "    </tr>\n",
              "    <tr>\n",
              "      <th>1986</th>\n",
              "      <td>23.492500</td>\n",
              "      <td>23.637501</td>\n",
              "      <td>23.407499</td>\n",
              "      <td>146124000</td>\n",
              "      <td>0.075882</td>\n",
              "      <td>0.417835</td>\n",
              "      <td>0.237</td>\n",
              "      <td>0.112</td>\n",
              "      <td>0.651</td>\n",
              "    </tr>\n",
              "    <tr>\n",
              "      <th>1987</th>\n",
              "      <td>23.610001</td>\n",
              "      <td>23.942499</td>\n",
              "      <td>23.575001</td>\n",
              "      <td>143345600</td>\n",
              "      <td>0.011243</td>\n",
              "      <td>0.382566</td>\n",
              "      <td>0.213</td>\n",
              "      <td>0.063</td>\n",
              "      <td>0.725</td>\n",
              "    </tr>\n",
              "  </tbody>\n",
              "</table>\n",
              "<p>1988 rows × 9 columns</p>\n",
              "</div>"
            ],
            "text/plain": [
              "           Open       High        Low  ...  negativity  positivity  neutrality\n",
              "0      5.852143   6.058928   5.848214  ...       0.234       0.057       0.708\n",
              "1      6.073928   6.303571   6.059643  ...       0.187       0.101       0.712\n",
              "2      6.197143   6.403214   6.196786  ...       0.135       0.052       0.813\n",
              "3      6.356429   6.428571   6.282143  ...       0.156       0.068       0.776\n",
              "4      6.368928   6.444643   6.351429  ...       0.201       0.101       0.698\n",
              "...         ...        ...        ...  ...         ...         ...         ...\n",
              "1983  23.227501  23.665001  23.162500  ...       0.101       0.052       0.847\n",
              "1984  23.250000  23.262501  22.875000  ...       0.165       0.089       0.746\n",
              "1985  23.225000  23.415001  23.035000  ...       0.136       0.105       0.758\n",
              "1986  23.492500  23.637501  23.407499  ...       0.237       0.112       0.651\n",
              "1987  23.610001  23.942499  23.575001  ...       0.213       0.063       0.725\n",
              "\n",
              "[1988 rows x 9 columns]"
            ]
          },
          "metadata": {
            "tags": []
          },
          "execution_count": 250
        }
      ]
    },
    {
      "cell_type": "code",
      "metadata": {
        "colab": {
          "base_uri": "https://localhost:8080/",
          "height": 424
        },
        "id": "JYT5okexsMJq",
        "outputId": "a7574d5c-56c5-4465-8f71-9cf9a56e4d56"
      },
      "source": [
        "y_merge"
      ],
      "execution_count": null,
      "outputs": [
        {
          "output_type": "execute_result",
          "data": {
            "text/html": [
              "<div>\n",
              "<style scoped>\n",
              "    .dataframe tbody tr th:only-of-type {\n",
              "        vertical-align: middle;\n",
              "    }\n",
              "\n",
              "    .dataframe tbody tr th {\n",
              "        vertical-align: top;\n",
              "    }\n",
              "\n",
              "    .dataframe thead th {\n",
              "        text-align: right;\n",
              "    }\n",
              "</style>\n",
              "<table border=\"1\" class=\"dataframe\">\n",
              "  <thead>\n",
              "    <tr style=\"text-align: right;\">\n",
              "      <th></th>\n",
              "      <th>Label</th>\n",
              "    </tr>\n",
              "  </thead>\n",
              "  <tbody>\n",
              "    <tr>\n",
              "      <th>0</th>\n",
              "      <td>0</td>\n",
              "    </tr>\n",
              "    <tr>\n",
              "      <th>1</th>\n",
              "      <td>1</td>\n",
              "    </tr>\n",
              "    <tr>\n",
              "      <th>2</th>\n",
              "      <td>0</td>\n",
              "    </tr>\n",
              "    <tr>\n",
              "      <th>3</th>\n",
              "      <td>0</td>\n",
              "    </tr>\n",
              "    <tr>\n",
              "      <th>4</th>\n",
              "      <td>1</td>\n",
              "    </tr>\n",
              "    <tr>\n",
              "      <th>...</th>\n",
              "      <td>...</td>\n",
              "    </tr>\n",
              "    <tr>\n",
              "      <th>1983</th>\n",
              "      <td>0</td>\n",
              "    </tr>\n",
              "    <tr>\n",
              "      <th>1984</th>\n",
              "      <td>0</td>\n",
              "    </tr>\n",
              "    <tr>\n",
              "      <th>1985</th>\n",
              "      <td>1</td>\n",
              "    </tr>\n",
              "    <tr>\n",
              "      <th>1986</th>\n",
              "      <td>1</td>\n",
              "    </tr>\n",
              "    <tr>\n",
              "      <th>1987</th>\n",
              "      <td>1</td>\n",
              "    </tr>\n",
              "  </tbody>\n",
              "</table>\n",
              "<p>1988 rows × 1 columns</p>\n",
              "</div>"
            ],
            "text/plain": [
              "      Label\n",
              "0         0\n",
              "1         1\n",
              "2         0\n",
              "3         0\n",
              "4         1\n",
              "...     ...\n",
              "1983      0\n",
              "1984      0\n",
              "1985      1\n",
              "1986      1\n",
              "1987      1\n",
              "\n",
              "[1988 rows x 1 columns]"
            ]
          },
          "metadata": {
            "tags": []
          },
          "execution_count": 251
        }
      ]
    },
    {
      "cell_type": "code",
      "metadata": {
        "id": "emKOv-7YsPa-"
      },
      "source": [
        "X_merge_train,X_merge_test,y_merge_train,y_merge_test=train_test_split(X_merge,y_merge,test_size=0.3,random_state=0)"
      ],
      "execution_count": null,
      "outputs": []
    },
    {
      "cell_type": "code",
      "metadata": {
        "colab": {
          "base_uri": "https://localhost:8080/",
          "height": 504
        },
        "id": "jGPFPfXAsRwK",
        "outputId": "d49f8a64-ec9e-4f4f-a2f5-ef30b79a571d"
      },
      "source": [
        "from sklearn import svm\n",
        "svmclf_merge=svm.SVC(kernel='rbf',degree=5,class_weight='balanced')\n",
        "svmclf_merge.fit(X_merge_train,y_merge_train) \n",
        "y_pred_svm=svmclf_merge.predict(X_merge_test)\n",
        "print(confusion_matrix(y_merge_test,y_pred_svm))\n",
        "print(accuracy_score(y_merge_test,y_pred_svm))\n",
        "print(classification_report(y_merge_test,y_pred_svm))\n",
        "print(sns.heatmap(confusion_matrix(y_merge_test,y_pred_svm),annot=True))"
      ],
      "execution_count": null,
      "outputs": [
        {
          "output_type": "stream",
          "text": [
            "[[ 91 200]\n",
            " [ 93 213]]\n",
            "0.509212730318258\n",
            "              precision    recall  f1-score   support\n",
            "\n",
            "           0       0.49      0.31      0.38       291\n",
            "           1       0.52      0.70      0.59       306\n",
            "\n",
            "    accuracy                           0.51       597\n",
            "   macro avg       0.51      0.50      0.49       597\n",
            "weighted avg       0.51      0.51      0.49       597\n",
            "\n",
            "AxesSubplot(0.125,0.125;0.62x0.755)\n"
          ],
          "name": "stdout"
        },
        {
          "output_type": "display_data",
          "data": {
            "image/png": "[encoded data removed]",
            "text/plain": [
              "<Figure size 432x288 with 2 Axes>"
            ]
          },
          "metadata": {
            "tags": [],
            "needs_background": "light"
          }
        }
      ]
    },
    {
      "cell_type": "code",
      "metadata": {
        "colab": {
          "base_uri": "https://localhost:8080/",
          "height": 508
        },
        "id": "Od6cnzHMsVGN",
        "outputId": "244f9841-2254-4f84-e150-564c23a8443a"
      },
      "source": [
        "decclf_merge = DecisionTreeClassifier(random_state=0)\n",
        "decclf_merge.fit(X_merge_train,y_merge_train)\n",
        "y_pred_dec=decclf_merge.predict(X_merge_test)\n",
        "print(confusion_matrix(y_merge_test,y_pred_dec))\n",
        "print(accuracy_score(y_merge_test,y_pred_dec))\n",
        "print(classification_report(y_merge_test,y_pred_dec))\n",
        "print(sns.heatmap(confusion_matrix(y_merge_test,y_pred_dec),annot=True))"
      ],
      "execution_count": null,
      "outputs": [
        {
          "output_type": "stream",
          "text": [
            "[[126 165]\n",
            " [147 159]]\n",
            "0.47738693467336685\n",
            "              precision    recall  f1-score   support\n",
            "\n",
            "           0       0.46      0.43      0.45       291\n",
            "           1       0.49      0.52      0.50       306\n",
            "\n",
            "    accuracy                           0.48       597\n",
            "   macro avg       0.48      0.48      0.48       597\n",
            "weighted avg       0.48      0.48      0.48       597\n",
            "\n",
            "AxesSubplot(0.125,0.125;0.62x0.755)\n"
          ],
          "name": "stdout"
        },
        {
          "output_type": "display_data",
          "data": {
            "image/png": "[encoded data removed]",
            "text/plain": [
              "<Figure size 432x288 with 2 Axes>"
            ]
          },
          "metadata": {
            "tags": [],
            "needs_background": "light"
          }
        }
      ]
    },
    {
      "cell_type": "code",
      "metadata": {
        "colab": {
          "base_uri": "https://localhost:8080/",
          "height": 504
        },
        "id": "i6NOv5ZBsY1D",
        "outputId": "33f86b78-8ecc-427d-ea6a-d5a31b44b760"
      },
      "source": [
        "from sklearn.discriminant_analysis import LinearDiscriminantAnalysis\n",
        "clf_lda = LinearDiscriminantAnalysis()\n",
        "clf_lda.fit(X_merge_train, y_merge_train)\n",
        "y_pred_lda=clf_lda.predict(X_merge_test)\n",
        "print(confusion_matrix(y_merge_test,y_pred_lda))\n",
        "print(accuracy_score(y_merge_test,y_pred_lda))\n",
        "print(classification_report(y_merge_test,y_pred_lda))\n",
        "print(sns.heatmap(confusion_matrix(y_merge_test,y_pred_lda),annot=True))"
      ],
      "execution_count": null,
      "outputs": [
        {
          "output_type": "stream",
          "text": [
            "[[ 84 207]\n",
            " [ 61 245]]\n",
            "0.5510887772194305\n",
            "              precision    recall  f1-score   support\n",
            "\n",
            "           0       0.58      0.29      0.39       291\n",
            "           1       0.54      0.80      0.65       306\n",
            "\n",
            "    accuracy                           0.55       597\n",
            "   macro avg       0.56      0.54      0.52       597\n",
            "weighted avg       0.56      0.55      0.52       597\n",
            "\n",
            "AxesSubplot(0.125,0.125;0.62x0.755)\n"
          ],
          "name": "stdout"
        },
        {
          "output_type": "display_data",
          "data": {
            "image/png": "[encoded data removed]",
            "text/plain": [
              "<Figure size 432x288 with 2 Axes>"
            ]
          },
          "metadata": {
            "tags": [],
            "needs_background": "light"
          }
        }
      ]
    },
    {
      "cell_type": "code",
      "metadata": {
        "colab": {
          "base_uri": "https://localhost:8080/",
          "height": 504
        },
        "id": "4D8jRmcjscLI",
        "outputId": "d8a5bca8-bdf4-44df-dbcf-34a02819a92a"
      },
      "source": [
        "from sklearn.linear_model import LogisticRegression\n",
        "log=LogisticRegression()\n",
        "log.fit(X_merge_train,y_merge_train)\n",
        "y_pred_log=log.predict(X_merge_test)\n",
        "print(confusion_matrix(y_merge_test,y_pred_log))\n",
        "print(accuracy_score(y_merge_test,y_pred_log))\n",
        "print(classification_report(y_merge_test,y_pred_log))\n",
        "print(sns.heatmap(confusion_matrix(y_merge_test,y_pred_log),annot=True))"
      ],
      "execution_count": null,
      "outputs": [
        {
          "output_type": "stream",
          "text": [
            "[[  0 291]\n",
            " [  0 306]]\n",
            "0.5125628140703518\n",
            "              precision    recall  f1-score   support\n",
            "\n",
            "           0       0.00      0.00      0.00       291\n",
            "           1       0.51      1.00      0.68       306\n",
            "\n",
            "    accuracy                           0.51       597\n",
            "   macro avg       0.26      0.50      0.34       597\n",
            "weighted avg       0.26      0.51      0.35       597\n",
            "\n",
            "AxesSubplot(0.125,0.125;0.62x0.755)\n"
          ],
          "name": "stdout"
        },
        {
          "output_type": "display_data",
          "data": {
            "image/png": "[encoded data removed]",
            "text/plain": [
              "<Figure size 432x288 with 2 Axes>"
            ]
          },
          "metadata": {
            "tags": [],
            "needs_background": "light"
          }
        }
      ]
    },
    {
      "cell_type": "code",
      "metadata": {
        "colab": {
          "base_uri": "https://localhost:8080/",
          "height": 504
        },
        "id": "T_uR9IqmsfSD",
        "outputId": "4e9d226d-682b-46b7-b458-b98d97582d15"
      },
      "source": [
        "clf_rand = RandomForestClassifier(max_depth=2, random_state=0)\n",
        "clf_rand.fit(X_merge_train, y_merge_train)\n",
        "y_pred_rand=clf_rand.predict(X_merge_test)\n",
        "print(confusion_matrix(y_merge_test,y_pred_rand))\n",
        "print(accuracy_score(y_merge_test,y_pred_rand))\n",
        "print(classification_report(y_merge_test,y_pred_rand))\n",
        "print(sns.heatmap(confusion_matrix(y_merge_test,y_pred_rand),annot=True))"
      ],
      "execution_count": null,
      "outputs": [
        {
          "output_type": "stream",
          "text": [
            "[[ 26 265]\n",
            " [ 24 282]]\n",
            "0.5159128978224455\n",
            "              precision    recall  f1-score   support\n",
            "\n",
            "           0       0.52      0.09      0.15       291\n",
            "           1       0.52      0.92      0.66       306\n",
            "\n",
            "    accuracy                           0.52       597\n",
            "   macro avg       0.52      0.51      0.41       597\n",
            "weighted avg       0.52      0.52      0.41       597\n",
            "\n",
            "AxesSubplot(0.125,0.125;0.62x0.755)\n"
          ],
          "name": "stdout"
        },
        {
          "output_type": "display_data",
          "data": {
            "image/png": "[encoded data removed]",
            "text/plain": [
              "<Figure size 432x288 with 2 Axes>"
            ]
          },
          "metadata": {
            "tags": [],
            "needs_background": "light"
          }
        }
      ]
    }
  ]
}